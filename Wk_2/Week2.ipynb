{
 "cells": [
  {
   "cell_type": "markdown",
   "metadata": {},
   "source": [
    "# Introduction to Python, Test Driven Development, and Koans"
   ]
  },
  {
   "cell_type": "markdown",
   "metadata": {},
   "source": [
    "## 2.1 Python\n",
    "\n",
    "The following has been extracted from [J.R. Johansson's](https://github.com/jrjohansson/scientific-python-lectures) wonderful Python tutorial series.\n",
    "\n",
    "### The role of computing in science\n",
    "\n",
    "Science has traditionally been divided into experimental and theoretical disciplines, but during the last several decades computing has emerged as a very important part of science. Scientific computing is often closely related to theory, but it also has many characteristics in common with experimental work. It is therefore often viewed as a new third branch of science. In most fields of science, computational work is an important complement to both experiments and theory, and nowadays a vast majority of both experimental and theoretical papers involve some numerical calculations, simulations or computer modeling.\n",
    "\n",
    "In experimental and theoretical sciences there are well established codes of conducts for how results and methods are published and made available to other scientists. For example, in theoretical sciences, derivations, proofs and other results are published in full detail, or made available upon request. Likewise, in experimental sciences, the methods used and the results are published, and all experimental data should be available upon request. It is considered unscientific to withhold crucial details in a theoretical proof or experimental method, that would hinder other scientists from replicating and reproducing the results.\n",
    "\n",
    "In computational sciences there are not yet any well established guidelines for how source code and generated data should be handled. For example, it is relatively rare that source code used in simulations for published papers are provided to readers, in contrast to the open nature of experimental and theoretical work. And it is not uncommon that source code for simulation software is withheld and considered a competitive advantage (or unnecessary to publish).\n",
    "However, this issue has recently started to attract increasing attention, and a number of editorials in high-profile journals have called for increased openness in computational sciences. Some prestigious journals, including Science, have even started to demand of authors to provide the source code for simulation software used in publications to readers upon request.\n",
    "\n",
    "Discussions are also ongoing on how to facilitate distribution of scientific software, for example as supplementary materials to scientific papers.\n",
    "\n",
    "### References\n",
    "* [Reproducible Research in Computational Science](http://dx.doi.org/10.1126/science.1213847), Roger D. Peng, Science 334, 1226 (2011).\n",
    "* [Shining Light into Black Boxes](http://dx.doi.org/10.1126/science.1218263), A. Morin et al., Science 336, 159-160 (2012).\n",
    "* [The case for open computer programs](http://dx.doi.org/doi:10.1038/nature10836), D.C. Ince, Nature 482, 485 (2012).\"\n",
    "\n",
    "### Requirements on scientific computing\n",
    "\n",
    "\n",
    "*Replication* and *reproducibility* are two of the cornerstones in the scientific method. With respect to numerical work, complying with these concepts have the following practical implications:\n",
    "\n",
    "* Replication: An author of a scientific paper that involves numerical calculations should be able to rerun the simulations and replicate the results upon request. Other scientist should also be able to perform the same calculations and obtain the same results, given the information about the methods used in a publication.\n",
    "\n",
    "* Reproducibility: The results obtained from numerical simulations should be reproducible with an independent implementation of the method, or using a different method altogether.\n",
    "\n",
    "In summary: A sound scientific result should be reproducible, and a sound scientific study should be replicable.\n",
    "\n",
    "To achieve these goals, we need to:\n",
    "* Keep and take note of exactly which source code and version that was used to produce data and figures in published papers.\n",
    "* Record information of which version of external software that was used. * Keep access to the environment that was used.\n",
    "* Make sure that old codes and notes are backed up and kept for future reference.\n",
    "* Be ready to give additional information about the methods used, and perhaps also the simulation codes, to an interested reader who requests it (even years after the paper was published!).\n",
    "* Ideally codes should be published online, to make it easier for other scientists interested in the codes to access it."
   ]
  },
  {
   "cell_type": "markdown",
   "metadata": {},
   "source": [
    "### What is Python?\n",
    "\n",
    "[Python](https://www.python.org) is a modern, general-purpose, object-oriented, high-level programming language.\n",
    "\n",
    "General characteristics of Python:\n",
    "\n",
    "* **clean and simple language**: Easy-to-read and intuitive code, easy-to-learn minimalistic syntax, maintainability scales well with size of projects.\n",
    "* **expressive language**: Fewer lines of code, fewer bugs, easier to maintain.\n",
    "\n",
    "Technical details:\n",
    "\n",
    "* **dynamically typed**: No need to define the type of variables, function arguments or return types.\n",
    "* **automatic memory management**: No need to explicitly allocate and deallocate memory for variables and data arrays. No memory leak bugs.\n",
    "* **interpreted**: No need to compile the code. The Python interpreter reads and executes the python code directly.\n",
    "\n",
    "Advantages:\n",
    "\n",
    "* The main advantage is ease of programming, minimizing the time required to develop, debug and maintain the code.\n",
    "* Well designed language that encourage many good programming practices:\n",
    "    * Modular and object-oriented programming, good system for packaging and re-use of code. This often results in more transparent, maintainable and bug-free code.\n",
    "    * Documentation tightly integrated with the code.\n",
    "* A large standard library, and a large collection of add-on packages.\n",
    "\n",
    "Disadvantages:\n",
    "\n",
    "* Since Python is an interpreted and dynamically typed programming language, the execution of python code can be slow compared to compiled statically typed programming languages, such as C and Fortran.\n",
    "* Somewhat decentralized, with different environment, packages and documentation spread out at different places. Can make it harder to get started.\n",
    "\n",
    "### What  makes Python suitable for scientific computing?\n",
    "\n",
    "<img src=\"images/optimizing-what.png\" />\n",
    "\n",
    "* Python has a strong position in scientific computing:\n",
    "    * Large community of users, easy to find help and documentation.\n",
    "* Extensive ecosystem of scientific libraries and environments\n",
    "    * numpy: http://numpy.scipy.org - Numerical Python\n",
    "    * scipy: http://www.scipy.org - Scientific Python\n",
    "    * matplotlib: http://www.matplotlib.org - graphics library\n",
    "* Great performance due to close integration with time-tested and highly optimized codes written in C and Fortran:\n",
    "    * blas, altas blas, lapack, arpack, Intel MKL, ...\n",
    "* Good support for\n",
    "    * Parallel processing with processes and threads\n",
    "    * Interprocess communication (MPI)\n",
    "    * GPU computing (OpenCL and CUDA)\n",
    "* Readily available and suitable for use on high-performance computing clusters.\n",
    "* No license costs, no unnecessary use of research budget.\n",
    "\n",
    "### The scientific Python software stack\n",
    "\n",
    "<img src=\"images/scientific-python-stack.png\"/>"
   ]
  },
  {
   "cell_type": "markdown",
   "metadata": {},
   "source": [
    "### Python Environments\n",
    "\n",
    "\n",
    "Python is not only a programming language, but often also refers to the standard implementation of the interpreter (technically referred to as CPython) that actually runs the python code on a computer.\n",
    "\n",
    "There are also many different environments through which the python interpreter can be used. Each environment has different advantages and is suitable for different workflows. One strength of python is that it is versatile and can be used in complementary ways, but it can be confusing for beginners so we will start with a brief survey of python environments that are useful for scientific computing.\n",
    "\n",
    "### Python Interpreter\n",
    "\n",
    "\n",
    "The standard way to use the Python programming language is to use the Python interpreter to run python code. The python interpreter is a program that reads and execute the python code in files passed to it as arguments. At the command prompt, the command python is used to invoke the Python interpreter.\n",
    "\n",
    "For example, to run a file my-program.py that contains python code from the command prompt, use::\n",
    "\n",
    "    $ python my-program.py\n",
    "\n",
    "We can also start the interpreter by simply typing python at the command line, and interactively type python code into the interpreter.\n",
    "\n",
    "<img src=\"images/python_terminal.png\" />\n",
    "\n",
    "### IPython\n",
    "\n",
    "IPython is an interactive shell that addresses the limitation of the standard python interpreter, and it is a work-horse for scientific use of python. It provides an interactive prompt to the python interpreter with a greatly improved user-friendliness.\n",
    "\n",
    "<img src=\"images/ipython_terminal.png\" />\n",
    "\n",
    "Some of the many useful features of IPython includes:\n",
    "\n",
    "* Command history, which can be browsed with the up and down arrows on the keyboard.\n",
    "* Tab auto-completion.\n",
    "* In-line editing of code.\n",
    "* Object introspection, and automatic extract of documentation strings from python objects like classes and functions.\n",
    "* Good interaction with operating system shell.\n",
    "* Support for multiple parallel back-end processes, that can run on computing clusters or cloud services like Amazon EE2.\n",
    "\n",
    "### IPython (Jupyter) Notebooks\n",
    "\n",
    "\n",
    "[IPython / Jupyter](http://ipython.org) notebook is an HTML-based notebook environment for Python, similar to Mathematica or Maple. It is based on the IPython shell, but provides a cell-based environment with great interactivity, where calculations can be organized and documented in a structured way.\n",
    "\n",
    "<img src=\"images/ipython-notebook-screenshot.jpg\" />\n",
    "\n",
    "Although using a web browser as graphical interface, IPython notebooks are usually run locally, from the same computer that run the browser. To start a new IPython notebook session, run the following command:\n",
    "\n",
    "    $ ipython notebook\n",
    "    \n",
    "or\n",
    "\n",
    "    $ jupyter notebook\n",
    "\n",
    "from a directory where you want the notebooks to be stored. This will open a new browser window (or a new tab in an existing window) with an index page where existing notebooks are shown and from which new notebooks can be created."
   ]
  },
  {
   "cell_type": "markdown",
   "metadata": {},
   "source": [
    "---------------"
   ]
  },
  {
   "cell_type": "markdown",
   "metadata": {},
   "source": [
    "### It is all about `print`...\n",
    "<img src=\"images/python-2-vs-python-31.jpg\" />\n",
    "\n",
    "It is not actually all about the difference between `print` and `print()`, but that might be the change that most casual users will encounter.  Python has made a number of changes transitioning from version 2 to version 3.  In my perspective, the former is an old stalwart, that has performed well for quite a while, and the latter is a new kid that brings a lot of features that you only know to miss once you have used them.\n",
    "\n",
    "In the past, a frequent argument focused on libraries from the scientific computing stack only being Python 2 compatible.  This is no longer true. \n",
    "\n",
    "### References\n",
    "* [Picking a Python Version: A Manifesto](https://pythonizame.s3.amazonaws.com/media/Book/picking-python-version-manifesto/file/50d2ac5e-6d4b-11e5-964d-04015fb6ba01.pdf) Mertz, David (2015).\n",
    "* [What should I learn as a Beginner: Python 2 or Python 3](http://learntocodewith.me/programming/python/python-2-vs-python-3/) Learn to Code with Me (2014). - (Make sure to check the update.)"
   ]
  },
  {
   "cell_type": "markdown",
   "metadata": {},
   "source": [
    "---------"
   ]
  },
  {
   "cell_type": "markdown",
   "metadata": {},
   "source": [
    "## 2.2 Test Driven Development\n",
    "\n",
    "<img src=\"images/rgr.gif\" />\n",
    "Image from: http://labs.nintex.com/wp-content/uploads/2015/03/tdd_flow.gif\n",
    "\n",
    "In quite broad strokes, Test Driven Development (TDD) is a development process that focuses on a short development cycle where a test a first written, that test understandably fails (the code has not been written yet), so the necessary code to have the test pass is written.  Then the code can be refactored, perhaps for generalization or to improve performance.  I take the view that TDD is not a mechanism to ensure that the entirety of your code is bug free.  This is a laudable goal that I would argue, can result in longer development times and wasteful tests.  I take a more pragmatic approach.  What TDD does provide is a means to ensure that you, the developer, understand what the code is supposed to do.  TDD, in writing unit and functional tests provides the opportunity to think about requirements and design.\n",
    "\n"
   ]
  },
  {
   "cell_type": "markdown",
   "metadata": {},
   "source": [
    "---------"
   ]
  },
  {
   "cell_type": "markdown",
   "metadata": {},
   "source": [
    "## 2.3 What are Koans? <img src=\"images/zencircle.png\"/>\n",
    "\n",
    "## ko·an\n",
    "### ˈkōän/\n",
    "\n",
    "    noun\n",
    "    plural noun: koans\n",
    "    a paradoxical anecdote or riddle, used in Zen Buddhism to demonstrate the inadequacy of logical reasoning and to provoke enlightenment.\n",
    "\n",
    "\n",
    "Within the development community, the concept of Koans, as a tool to learn a new programming language has been gaining traction.  I attribute some of this to the growth of Test Driven Development (and [Behavior Driven Development](http://guide.agilealliance.org/guide/bdd.html)).  The first Koans widely available, to my knowledge, emerged from the [Ruby Community](http://rubykoans.com).  The basic concept is simple - learn language syntax, structure, coding style, and commonly used libraries, through the act of testing."
   ]
  },
  {
   "cell_type": "markdown",
   "metadata": {},
   "source": [
    "## A Koan Walkthrough\n",
    "\n",
    "Imagine that we have a test file with the following:\n",
    "\n",
    "```python\n",
    "\n",
    "import unittest\n",
    "\n",
    "class FirstKoan(unittest.TestCase):\n",
    "    \n",
    "    def test_foo(self):\n",
    "        self.assertTrue(False)\n",
    "```\n",
    "\n",
    " * The first line, `import unittest` simply brings (or imports) the testing module `unittest` into the script (or more specifically namespace.)\n",
    " * Next a class is defined, `class FirstKoan(unittest.TestCase):`.  We can ignore this for now.\n",
    " * The third line, `def test_foo(self):`, is a function signature.  For now, when you see `def test_*(self):`, where the `*` is a wildcard, it indicates that we have a new test.  \n",
    " * The final line is the actual test.  Here we are asserting that the item(s) within the parentheses is True.  \n",
    " \n",
    " The above test will fail.  Intuitively False is not True.  Programmatically `True != False`.  We could replace the argument in the function to be `type(1) == str` or `float == int`.  Both of these statements would evaluate to False.\n",
    " \n",
    "The Python documentation describes a number of `assert*` statements [here](https://docs.python.org/3/library/unittest.html#unittest.TestCase.debug).\n",
    "\n",
    "In the spirit of other programming Koans, the above test is designed to fail.  The task is to alter the test so that it passes.  For the above example we could replace `self.assertTrue(False)` with `self.assertTrue(True)`.  We could also be a bit fancier with something like `self.assertTrue(1 == 1)`.\n",
    "\n",
    "In the next cells, I will utilize a code example to illustrate a Python traceback and walk through the process of completing the assignment for this week."
   ]
  },
  {
   "cell_type": "code",
   "execution_count": 2,
   "metadata": {
    "collapsed": false
   },
   "outputs": [
    {
     "ename": "AssertionError",
     "evalue": "",
     "output_type": "error",
     "traceback": [
      "\u001b[0;31m---------------------------------------------------------------------------\u001b[0m",
      "\u001b[0;31mAssertionError\u001b[0m                            Traceback (most recent call last)",
      "\u001b[0;32m<ipython-input-2-be1ae747eb96>\u001b[0m in \u001b[0;36m<module>\u001b[0;34m()\u001b[0m\n\u001b[1;32m      1\u001b[0m \u001b[0ma\u001b[0m \u001b[0;34m=\u001b[0m \u001b[0;36m1\u001b[0m\u001b[0;34m\u001b[0m\u001b[0m\n\u001b[1;32m      2\u001b[0m \u001b[0mb\u001b[0m \u001b[0;34m=\u001b[0m \u001b[0;36m2\u001b[0m\u001b[0;34m\u001b[0m\u001b[0m\n\u001b[0;32m----> 3\u001b[0;31m \u001b[0;32massert\u001b[0m\u001b[0;34m(\u001b[0m\u001b[0ma\u001b[0m \u001b[0;34m==\u001b[0m \u001b[0mb\u001b[0m\u001b[0;34m)\u001b[0m\u001b[0;34m\u001b[0m\u001b[0m\n\u001b[0m",
      "\u001b[0;31mAssertionError\u001b[0m: "
     ]
    }
   ],
   "source": [
    "a = 1\n",
    "b = 2\n",
    "assert(a == b)"
   ]
  },
  {
   "cell_type": "markdown",
   "metadata": {},
   "source": [
    "Above, is an example of a Python traceback that fails to assert that 1 equals 2.  Tracebacks are most easily read from the bottom up - the error that we are trying to fix is often the final line of the traceback and the other lines simply offer context.  In the example, the code fails due to an AssertionError on the line denoted with a `---->`.  Knowing where the code is failing, I could not make the necessary alteration."
   ]
  },
  {
   "cell_type": "code",
   "execution_count": 4,
   "metadata": {
    "collapsed": true
   },
   "outputs": [],
   "source": [
    "a = 1\n",
    "b = 2\n",
    "assert(a != b)  # != means not equal\n",
    "\n",
    "# The lack of a traceback tells us that this code passed."
   ]
  },
  {
   "cell_type": "markdown",
   "metadata": {},
   "source": [
    "## 2.4 Assignment 1 (E1) Tutorial\n",
    "\n",
    "At a high level, to complete the assignment you will:\n",
    "\n",
    "* Be invited to access assignment 1 (assuming you turned in assignment 0).\n",
    "* Fork assignment 1 into a repository of your own.\n",
    "* Open the file `tests.py` in Github.\n",
    "* Edit the file to fix the failing tests.\n",
    "* Submit a Pull Request with your changes (this will cause automated testing to run and provide you with feedback).\n",
    "\n",
    "### Fork assignment 1\n",
    "\n",
    "(Links are to github documentation guides.)\n",
    "\n",
    "1. To start, [**fork** the repository][forking].\n",
    "1. [**Clone**][ref-clone] the repository to your computer.\n",
    "1. Modify the files and [**commit**][ref-commit] changes to complete your\n",
    "   solution.\n",
    "1. [**Push**][ref-push]/sync the changes up to GitHub.\n",
    "1. [Create a **pull request**][pull-request] on the original repository to turn\n",
    "   in the assignment.\n",
    "\n",
    "[forking]: https://guides.github.com/activities/forking/\n",
    "[ref-clone]: http://gitref.org/creating/#clone\n",
    "[ref-commit]: http://gitref.org/basic/#commit\n",
    "[ref-push]: http://gitref.org/remotes/#push\n",
    "[pull-request]: https://help.github.com/articles/creating-a-pull-request\n",
    "\n",
    "### Open the file `test.py`\n",
    "\n",
    "* Now that the repository is forked, click the `tests.py` file.\n",
    "\n",
    "<img src=\"images/click_test.png\" />\n",
    "\n",
    "* Click the edit button to be able to edit the file.\n",
    "\n",
    "<img src=\"images/edit_test.png\" />\n",
    "\n",
    "* Make the necessary changes to the file and commit the file.\n",
    "\n",
    "<img src=\"images/commit_test.png\" />\n",
    "\n",
    "* Submit a pull request.\n",
    "* Wait for the automated tests to run.  In future weeks we will look at what is going on.  In brief, a service ([Travis CI](http://travis-ci.org/)) is running all of the tests when a pull request is first submitted or when a change is made to an open pull request.  The tests will take ~60 seconds to run.\n",
    "\n",
    "Here we see an example of a failing test:\n",
    "<img src=\"images/failing_pr.png\" />\n",
    "\n",
    "Click on the red `X` (after the commit message, and before a commit number) to open the TravisCI page.  On the travis page you will see header information that simply documents have a virtual (cloud hosted) test machine was set up.  After that you will see one or more tracebacks.  These tracebacks, like the example above provide feedback about where the error is occuring. \n",
    "\n",
    "Here we see an example of all tests passing:\n",
    "<img src=\"images/passing_pr.png\" />\n",
    "\n",
    "The green check tells us that all tests are passing.  The green check, just like the red `X` is a clickable link to the build information.  Once your pull request shows a green check you are good to go.  This could take one commit or many - the number of times you tweak the code does not matter."
   ]
  },
  {
   "cell_type": "markdown",
   "metadata": {},
   "source": [
    "---------"
   ]
  },
  {
   "cell_type": "markdown",
   "metadata": {},
   "source": [
    "# Week 2 Deliverables (E1) - Due 1/26/16\n",
    "For this week make sure that you have completed the following:\n",
    "    \n",
    "   \n",
    "* Fork Assignment 1 to your own github repository.\n",
    "    * You can access assignment 1 [HERE](https://classroom.github.com/assignment-invitations/320e9ec88ed80a66793b9d534f74b287).\n",
    "* Use the Github editor to edit the file `test.py` to correct all of the failing tests.\n",
    "* Submit a pull request to my Assignment 1 repository."
   ]
  },
  {
   "cell_type": "code",
   "execution_count": null,
   "metadata": {
    "collapsed": true
   },
   "outputs": [],
   "source": []
  }
 ],
 "metadata": {
  "kernelspec": {
   "display_name": "Python 3",
   "language": "python",
   "name": "python3"
  },
  "language_info": {
   "codemirror_mode": {
    "name": "ipython",
    "version": 3
   },
   "file_extension": ".py",
   "mimetype": "text/x-python",
   "name": "python",
   "nbconvert_exporter": "python",
   "pygments_lexer": "ipython3",
   "version": "3.5.1"
  }
 },
 "nbformat": 4,
 "nbformat_minor": 0
}
