{
 "cells": [
  {
   "cell_type": "markdown",
   "metadata": {},
   "source": [
    "# Qt Installation and Basic GUI Development\n",
    "\n",
    "We are transitioning this week, from the implementation of a functional library to the use of that library within a GUI.  Many of your developers collegues are going to be most interested in the work you have done up until this point in the course.  Think about the functionality that you are able to provide to someone else, as an importable library, that they can simply use.  Additionally, think about all of the testing that you have done to give them (and you) confidence in the validity of the code.  That is the power of developing and deploying a library.\n",
    "\n",
    "For the vast majority of our non-developer collegues, a library is simply a hard to use tool that might do what they need, if only it was more user friendly.  For these users a Graphical User Interface (GUI) is much more approachable.  Over the next four weeks we will step through the creation of a GUI using the [Qt GUI library](http://www.qt.io).  This GUI will be a super simple (simple not that development is easy, but compared to say ArcMap, the feature set is quite small) Geographic Information System (GIS) that can be used to apply point pattern analysis methods that you have already developed."
   ]
  },
  {
   "cell_type": "markdown",
   "metadata": {},
   "source": [
    "## Qt\n",
    "<img src=\"images/Qt-logo-medium.png\" /img>\n",
    "\n",
    "Qt is a cross platform User Interface (UI) library.  Qt works not only on the big three operating systems (Windows, OSX, Linux), but also on many mobile platforms (iOS, Android).  One of the key pros to Qt is the ability to offer cross platform support with little (or no) modification to the UI code.  That is, your GUI will run on windows and OSX without changes to the code base.  Additionally, the GUI will looks and behave the same (with the caveat that windows and window functionality mimics the OS you are on).\n",
    "\n",
    "### PyQt\n",
    "The Qt library is written in C++.  We definitely do not want to have to develop an analytical code base in Python and a GUI in C++ (the interaction between the languages is tractable, but well outside the scope of this text).  Thankfully, Anaconda Python (should) ship with the [PyQt](https://riverbankcomputing.com/software/pyqt/intro) library.  One of the first things that you should do this week is confirm that PyQt is installed.  To do this, launch an iPython notebook or an interactive session (`ipython` in the terminal) and run:"
   ]
  },
  {
   "cell_type": "code",
   "execution_count": 4,
   "metadata": {
    "collapsed": false
   },
   "outputs": [
    {
     "name": "stdout",
     "output_type": "stream",
     "text": [
      "['QAbstractButton', 'QAbstractGraphicsShapeItem', 'QAbstractItemDelegate', 'QAbstractItemView', 'QAbstractPrintDialog']\n"
     ]
    }
   ],
   "source": [
    "from PyQt4 import QtGui\n",
    "print(dir(QtGui)[:5])  # Print the first 5 elements in the QtGui namespace"
   ]
  },
  {
   "cell_type": "markdown",
   "metadata": {},
   "source": [
    "The above should have output similar to what is shown.  If not, try executing (in a terminal) `conda install pyqt`.  If this does not work, definitely post in the forums as soon as possible.\n",
    "\n",
    "##PyQt Tutorial\n",
    "For this week's additional readings, I would like for you to checkout two additional readings:\n",
    "1. http://zetcode.com/gui/pyqt4/firstprograms/\n",
    "2. http://zetcode.com/gui/pyqt4/menusandtoolbars/\n",
    "\n",
    "These are two step by step tutorials that will allow you to complete the GUI portion of the assignment.  Because the code is basically provided for you, please take some time understanding what exactly is happening and how.  As with the previous assignments, we will be building on existing functionality in subsequent weeks."
   ]
  },
  {
   "cell_type": "markdown",
   "metadata": {},
   "source": [
    "## Folium <img src=\"images/folium_logo.jpg\" /img>\n",
    "[Folium](https://folium.readthedocs.org/en/latest/) is a Python library that allows you to rapidly build [leaflet.js](http://leafletjs.com) driven dynamic web maps.  We will use folium to provide the basic mapping infrastructure within our GUI.  This  week, usage of folium is going to be super light.  To get folium installed:\n",
    "\n",
    "`conda install folium`\n",
    "\n",
    "(That should have failed...so what is going on?)\n",
    "\n",
    "Above we see that the conda package manager does not have `folium`.  So, we will fall back to using the general release available via PyPi.  Execute:\n",
    "\n",
    "`pip install folium`.\n",
    "\n",
    "(That should work....if not post in the forums ASAP).\n",
    "\n",
    "To test your Folium installation:"
   ]
  },
  {
   "cell_type": "code",
   "execution_count": 7,
   "metadata": {
    "collapsed": false
   },
   "outputs": [
    {
     "data": {
      "text/html": [
       "<div style=\"width:100%;\"><div style=\"position:relative;width:100%;height:0;padding-bottom:60%;\"><iframe src=\"data:text/html;base64,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\" style=\"position:absolute;width:100%;height:100%;left:0;top:0;\"></iframe></div></div>"
      ],
      "text/plain": [
       "<folium.folium.Map at 0x1155902e8>"
      ]
     },
     "execution_count": 7,
     "metadata": {},
     "output_type": "execute_result"
    }
   ],
   "source": [
    "import folium\n",
    "map_osm = folium.Map(location=[45.5236, -122.6750])\n",
    "map_osm"
   ]
  },
  {
   "cell_type": "markdown",
   "metadata": {},
   "source": [
    "Something to try this week - Can you get the map to center on Phoenix at some reasonable zoom level?  How about changing from OSM to another map provider?  Give that a try in an iPython notebook - you can copy/paste the above code.\n",
    "\n",
    "Note: You need an internet connect to get the maps to display."
   ]
  },
  {
   "cell_type": "markdown",
   "metadata": {},
   "source": [
    "## MatPlotLib\n",
    "[MatPlotLib](http://matplotlib.org) is arguably *the* Python plotting library.  For publication ready figures, this is a plotting package that I most frequently utilize as it offers a clean API, powerful plotting functionality, and rapid development.  The package does show it's age, especially when compared to some of the newer interactive plotting libraries (D3.js being a prime example).  Having said that, MatPlotLib is the tool that we will focus on for rapidly creating figures.\n",
    "\n",
    "Checkout [J.R. Johansson's](https://github.com/jrjohansson/scientific-python-lectures/blob/master/Lecture-4-Matplotlib.ipynb) wonderful MatPlotLib tutorial (through at least cell #49).  This tutorials demonstrates how you can accomplish the two plotting deliverables for this week."
   ]
  },
  {
   "cell_type": "markdown",
   "metadata": {},
   "source": [
    "## Monkey Patching\n",
    "As a brief aside, I want to take a minute to offer an example of [Monkey Patching](https://filippo.io/instance-monkey-patching-in-python/).  This is one way that you could get the plotting deliverable patched in to your point pattern class.  \n",
    "\n",
    "Imagine that you have a class `Foo`:"
   ]
  },
  {
   "cell_type": "code",
   "execution_count": 10,
   "metadata": {
    "collapsed": false
   },
   "outputs": [
    {
     "name": "stdout",
     "output_type": "stream",
     "text": [
      "X values: [ 0.73990475  0.37594379 -0.28570159  0.69986564 -0.56593876 -0.58446385\n",
      "  0.22086394  0.8831886   0.51762055  0.84343588]\n"
     ]
    }
   ],
   "source": [
    "import numpy as np\n",
    "class Foo(object):\n",
    "    def __init__(self, x_vector, y_vector):\n",
    "        self.x = x_vector\n",
    "        self.y = y_vector\n",
    "pts = np.random.uniform(-1, 1, (10,2))\n",
    "foo = Foo(pts[:,0], pts[:,1])\n",
    "\n",
    "print('X values: {}'.format(foo.x))"
   ]
  },
  {
   "cell_type": "markdown",
   "metadata": {},
   "source": [
    "Image too that we have a file called `mpl_views.py` that contains the following function:"
   ]
  },
  {
   "cell_type": "code",
   "execution_count": 17,
   "metadata": {
    "collapsed": false
   },
   "outputs": [
    {
     "name": "stdout",
     "output_type": "stream",
     "text": [
      "Populating the interactive namespace from numpy and matplotlib\n"
     ]
    },
    {
     "data": {
      "image/png": "[encoded data removed]",
      "text/plain": [
       "<matplotlib.figure.Figure at 0x1187b4080>"
      ]
     },
     "metadata": {},
     "output_type": "display_data"
    }
   ],
   "source": [
    "# Added for this notebook\n",
    "%pylab inline \n",
    "\n",
    "# The function\n",
    "def plot_points(x, y, **kwargs):\n",
    "    \"\"\"\n",
    "    x : numeric or iterable\n",
    "        x coordinates to plot\n",
    "    y : numeric or iterable\n",
    "        y coordiantes to plot\n",
    "    kwargs : dict\n",
    "             Any matplotlib accepted keyword arguments (see MPL documentation)\n",
    "    \"\"\"\n",
    "    plot(x,y, **kwargs)\n",
    "    \n",
    "plot_points(1,1, color='red', marker='*', markersize=10)"
   ]
  },
  {
   "cell_type": "markdown",
   "metadata": {},
   "source": [
    "And we want to add the plotting capability to Foo, but do it dynamically, say within an iPython notebook"
   ]
  },
  {
   "cell_type": "code",
   "execution_count": 19,
   "metadata": {
    "collapsed": false
   },
   "outputs": [
    {
     "data": {
      "image/png": "[encoded data removed]",
      "text/plain": [
       "<matplotlib.figure.Figure at 0x119b5fc88>"
      ]
     },
     "metadata": {},
     "output_type": "display_data"
    }
   ],
   "source": [
    "foo.plot_points = plot_points\n",
    "foo.plot_points(foo.x, foo.y, marker='o', linewidth=0)"
   ]
  },
  {
   "cell_type": "markdown",
   "metadata": {},
   "source": [
    "This might not be the best example of monkey patching (because we are still passing attributes), but you should have the general idea - we have added a method to a class at runtime, without modifying the original class.  If we created another instance of `Foo`, say `foo2`, this class would not have the plotting method, unless we patched it in."
   ]
  },
  {
   "cell_type": "markdown",
   "metadata": {},
   "source": [
    "# Week 12 Deliverables (E8) - Due 4/12/16\n",
    "For this week make sure that you have completed the following:\n",
    "    \n",
    "* Fork Assignment 9 to your own github repository.\n",
    "    * You can access assignment 9 [HERE](https://github.com/Geospatial-Python/assignment_09)\n",
    "* Clone the repository locally\n",
    "\n",
    "## Deliverables\n",
    "1. Create a GUI application that can be launched from a script named `view.py`.  The GUI should include:\n",
    "    * A single window (QMainWindow or QWidget)\n",
    "    * A `File` menu with at least one entry - `Quit`.  The quit item should exit the program.\n",
    "    * The code should be presented using the following conventions:\n",
    "        a. Include an `if '__name__' == __main__:` block\n",
    "        b. Write your GUI in a class, inhereting from QMainWindow, QWidget, or another appropriate parent.  You should have at least an `__init__` method and a `init_ui` method.\n",
    "        c. Call a function called `main` when the application is launched and an instance of your GUI class is created\n",
    "    * A central widget.  This can be an empty widget, a text box, a graphic - we will replace this next week with something else, so the important part for now is having something in the window.\n",
    "    \n",
    "    Note: For the above requirements, the linked readings offer step-by-step examples of how to achieve this.\n",
    "1. If you wrote a script for last week demonstrating your point pattern analysis code, please move that code into an iPython notebook.  Extend the notebook to:\n",
    "    * Plot the point pattern.  To do this, please write a function that takes two vectors (x, y) as arguments and then generates a plot.  \n",
    "    * Plot the results of the G-function.  You can see an example of this in a previous week's readings.  In addition to plotting the observed function, plot the upper and lower confidence thresholds in a different line color.  For example, if the observed value is red, then the upper and lower thresholds (with p=0.05 maybe) could be blue.\n",
    "    \n",
    "    Hint: To get plots to automatically display in a notebook add `%pylab inline` to the first cell (where your other imports are)\n",
    "1. Update any other support code as necessary."
   ]
  },
  {
   "cell_type": "code",
   "execution_count": null,
   "metadata": {
    "collapsed": true
   },
   "outputs": [],
   "source": []
  }
 ],
 "metadata": {
  "kernelspec": {
   "display_name": "Python 3",
   "language": "python",
   "name": "python3"
  },
  "language_info": {
   "codemirror_mode": {
    "name": "ipython",
    "version": 3
   },
   "file_extension": ".py",
   "mimetype": "text/x-python",
   "name": "python",
   "nbconvert_exporter": "python",
   "pygments_lexer": "ipython3",
   "version": "3.5.1"
  }
 },
 "nbformat": 4,
 "nbformat_minor": 0
}
