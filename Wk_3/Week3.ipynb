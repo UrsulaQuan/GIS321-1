{
 "cells": [
  {
   "cell_type": "markdown",
   "metadata": {},
   "source": [
    "# Python Interpreters and Editors, Local Testing, Syntax: Strings and None"
   ]
  },
  {
   "cell_type": "markdown",
   "metadata": {},
   "source": [
    "## 3.1 Python Interpreters and Editors\n",
    "\n",
    "Last week we saw a few different python interpreters: the standard interactive prompt, iPython, and iPython (Jupyter) notebooks.  Python is an interpreted language, meaning the human readable code is not pre-compiled into low level, machine executable code.  Instead the Python code is pre-compiled into [bytecode](https://en.wikipedia.org/wiki/Bytecode).  If you are running a `.py` file that is saved on disk, the fist time the script is run you will see that a `.pyc`  file is created.  This is the byte code.  An interpreter can then be used to execute this code (CPython) or a [Just-in-time](https://en.wikipedia.org/wiki/Just-in-time_compilation) (JIT) compiler can be used to compile and execute the code (for example [PyPy](http://pypy.org)).\n",
    "\n",
    "Therefore, Python is a compiled language (as opposed to a purely interpreted language).  The compilation is 'just' to bytecode through, and not to low level machine code.\n",
    "\n",
    "\n",
    "### Editors\n",
    "While we edited Python code using the browser based Github editing tools last week, it is significantly easier to utilize a local editor.  In the most simplistic case, we could open our standard text editor and edit the file.  It is significantly easier to utilize a dedicated editor that offers indentation support, code highlighting, code completion, etc.  Python has a huge number of [editors](https://wiki.python.org/moin/PythonEditors).\n",
    "\n",
    "1. [PyCharm](https://www.jetbrains.com/pycharm/download/) - I recently started using the community edition with a development team and PyCharm offers a number of really nice features.  It is available on all three platforms, has good code completion and syntax highlighting.  Additionally, PyCharm has support for virtual environments (more below), and direct GitHub integration.  This is currently my editor of choice.\n",
    "\n",
    "2. [Vi/Vim](http://www.fullstackpython.com/vim.html) - For a long time, I used ViM as my Python IDE.  I liked Vi/Vim because I know it will be available on any computer I used without needing installation, that I can customize it to my heart's content, and that, with proper configuration, Vim can do everything a heavy weight IDE can do.  Having said all that, sometimes it is nice to double click an icon and have a working, configured tool launch.\n",
    "\n",
    "3. [WingIDE](https://wingware.com) - This was the first editor I ever used (on Windows no less).  The free version does not offer code completion, but otherwise this is a full featured editor.  The interface feels heavy these days, but otherwise this tool 'just works'.  \n",
    "\n",
    "For this course, my suggestion would be to install PyCharm. "
   ]
  },
  {
   "cell_type": "markdown",
   "metadata": {},
   "source": [
    "## 3.2 Virtual Environments\n",
    "Virtual environments are a mechanism that allows a developer to separate different projects with completely stand alone Python environments.  Why is this important?  Image that you are developing a website for company A and a website for company B.  A wants the website to use Python 2.7.x and run using a [Flask](http://flask.pocoo.org) server.  So, you install the Flask library(`conda install flask` or `pip install flask`) into your Python installation, create the project, and ship it to your customer.  The only library outside of the Python standard library that your project needs is Flask, so you include a note when you deliver.  Later you start working on a project for company B and they want you to use [Bottle](http://bottlepy.org/docs/dev/index.html), so you install Bottle (`conda install bottle` or `pip install bottle`) and realize that 50% of your work for company A can be reused (lots of helper functions).  So, you copy/paste the items over and create the website.  On delivery, you send along a note saying that the Bottle library is required.\n",
    "\n",
    "Unfortunately, the install for company B does not work.  They have a missing dependency - Flask.  How did it sneak in?  The dependency was in the copy/pasted helper functions and your Python environment had Flask installed from way back when you did the company A work.  If the company A work was in a virtual environment and the company B work was in a different virtual environment, this would have been obvious before software delivery.\n",
    "\n",
    "The above is pretty simplistic and on a small project would likley be caught early.  It becomes important to use virtual environments when working on multiple concurrent projects, larger, more complex projects, or projects with custom dependencies.  In short, it is simply a good habit to be in.\n",
    "\n",
    "For the syntax for creating virtual environments see [http://conda.pydata.org/docs/using/envs.html](http://conda.pydata.org/docs/using/envs.html)."
   ]
  },
  {
   "cell_type": "markdown",
   "metadata": {},
   "source": [
    "## 3.3 Local Testing\n",
    "The code that you modified last week (`tests.py`) contained a number of [unit tests](http://martinfowler.com/bliki/UnitTest.html).  I concur with the definition of unit tests from the previous link, namely:\n",
    "\n",
    "> Despite the variations, there are some common elements. Firstly there is a notion that unit tests are low-level, focusing on a small part of the software system. Secondly unit tests are usually written these days by the programmers themselves using their regular tools - the only difference being the use of some sort of unit testing framework [1]. Thirdly unit tests are expected to be significantly faster than other kinds of tests.\n",
    "\n",
    "Just because we are using the built-in unit test module (the `import unittest` at the top of `tests.py` tells us the module that is being used), does not mean that we are limited to just unit tests.  It is equally easy to write a [functional test](http://martinfowler.com/bliki/ComponentTest.html) (the link describes component testing, but I consider fucntional testing to be synonymous. \n",
    "\n",
    "**Example**\n",
    "\n",
    "When working on larger projects, you will frequently encounter business requirements.  The can take the form of, for example, a user story.  \n",
    "\n",
    "`As the user, I can specify which geometries to include in a given spatial operation.`  \n",
    "\n",
    "This user story can be fulfilled by creating a number of classes or functions.  Unit testing can be used to test the functionality of each class / function and functional testing can be used to ensure that the business requirement (user story) is fulfilled.  Do not confuse functions (a block of reusable code) with functional testing (a test or tests that ensure code fulfills a given requirement)."
   ]
  },
  {
   "cell_type": "markdown",
   "metadata": {},
   "source": [
    " #### Nosetests\n",
    " While having an automated test suite run when a pull request is submitted is beneficial in keeping clean code in a repository, it is not necessarily efficient.  Therefore, we use a testing tool called Nose.  This week, before you submit your code, try testing it locally.  To do this:\n",
    " \n",
    "* Make sure you have cloned the forked repository locally.\n",
    "* Open a terminal and navigate to the assignment_02 directory\n",
    "* In a terminal (powershell) run `nosetests tests.py`\n",
    "\n",
    "Running this on `tests.py` without making any changes results in:\n",
    "\n",
    "<img src=\"images/nosetests.png\" />\n",
    "\n",
    "Counting all the `E` (Error) and `F` (Failure) entries at the top, it looks like 13 tests are currently not passing.  Taking the first entry as an example we see:\n",
    "\n",
    "`ERROR: This is a great place to launch an interpreter and check`\n",
    "\n",
    "This tells us that the first test failed with an error and had a comment in the function that started with the printed text.  \n",
    "\n",
    "The traceback:\n",
    "\n",
    "```python\n",
    "Traceback (most recent call last):\n",
    "  File \"/Users/jlaura/github/geospatial_python/assignment_02/tests.py\", line 20, in test_none_is_unique\n",
    "    truth = ____\n",
    "NameError: name '____' is not defined\n",
    "```\n",
    "\n",
    "tells us that a `NameError` occurred.  Specifically `'____'` is not a known Python name or a variable that we have defined.  That should be enough information to go in and fix either the failing test or the code causing the test to fail."
   ]
  },
  {
   "cell_type": "markdown",
   "metadata": {},
   "source": [
    "# Week 3 Deliverables (E2) - Due 2/2/16\n",
    "For this week make sure that you have completed the following:\n",
    "    \n",
    "   \n",
    "* Fork Assignment 2 to your own github repository.\n",
    "    * You can access assignment 2 [HERE](https://github.com/Geospatial-Python/assignment_02)\n",
    "* Clone the repository locally\n",
    "* Make the necessary code changes so that tests are passing locally\n",
    "* Submit a pull request to my Assignment 2 repository.\n"
   ]
  },
  {
   "cell_type": "code",
   "execution_count": null,
   "metadata": {
    "collapsed": true
   },
   "outputs": [],
   "source": []
  }
 ],
 "metadata": {
  "kernelspec": {
   "display_name": "Python 3",
   "language": "python",
   "name": "python3"
  },
  "language_info": {
   "codemirror_mode": {
    "name": "ipython",
    "version": 3
   },
   "file_extension": ".py",
   "mimetype": "text/x-python",
   "name": "python",
   "nbconvert_exporter": "python",
   "pygments_lexer": "ipython3",
   "version": "3.5.1"
  }
 },
 "nbformat": 4,
 "nbformat_minor": 0
}
