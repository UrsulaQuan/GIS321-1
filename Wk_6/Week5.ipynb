{
 "cells": [
  {
   "cell_type": "markdown",
   "metadata": {},
   "source": [
    "# Iterables, Sequences, Conditional Execution & Files\n",
    "\n",
    "This week we will be working on two different, yet related topics: (1) point pattern analysis and (2) GeoJSON.  For the former you will be leveraging the readings about iterables and sequences to write some point pattern analysis algorithms.  For the latter, you will be working on reading and processing a GeoJSON file of US cities.\n",
    "\n",
    "The readings are quite good with respect to how iterables and iteration, conditional execution, and file access work.  This notebook is purely supplemental, and focuses on filling in some gaps to make the assignment easier."
   ]
  },
  {
   "cell_type": "markdown",
   "metadata": {},
   "source": [
    "## Iterables and Sequences\n",
    "\n",
    "Here, the linkage that I want to make is between the mathematical notation you are likely to see when researching how to compute a given statistic and possible implementation methods.\n",
    "\n",
    "As a simple example, lets take the average of $n$ numbers.  This could be notated as:\n",
    "\n",
    "$\\frac{1}{n}\\sum_{i=1}^{n}x_{i}$, where $n$ is the number of values and $x$ is the value at position $i$.\n",
    "\n",
    "Looking at this, we see the need to divide (multiply by the reciprocal) some summation by $n$.  To realize this in code, I know that I need to compute the summation.  This could be accomplished with a `for` loop."
   ]
  },
  {
   "cell_type": "code",
   "execution_count": 23,
   "metadata": {
    "collapsed": false
   },
   "outputs": [
    {
     "name": "stdout",
     "output_type": "stream",
     "text": [
      "My input values are:  [0, 1, 2, 3, 4, 5, 6, 7, 8, 9]\n",
      "The mean value is:  4.5\n"
     ]
    }
   ],
   "source": [
    "x = list(range(10))\n",
    "print('My input values are: ', x)\n",
    "\n",
    "summation = 0\n",
    "for i in range(10):\n",
    "    summation += i  # This is the same as summation = summation + i\n",
    "    \n",
    "mean = summation / len(x)\n",
    "print('The mean value is: ', mean)"
   ]
  },
  {
   "cell_type": "raw",
   "metadata": {},
   "source": [
    "Here is the line by line breakdown:\n",
    "\n",
    "1. Create a list of numbers 0 - 9.\n",
    "2. Print the list as a sanity check.\n",
    "4. Assign a summation variable to start at 0.\n",
    "5. Loop over the range.  I reuse range here.  If you are curious why, post in the forum.\n",
    "6. Add the current value in the loop to the summation variable.\n",
    "8. Divide the sum of all values by the number of values.\n",
    "9. Print the result as a sanity check."
   ]
  },
  {
   "cell_type": "code",
   "execution_count": 27,
   "metadata": {
    "collapsed": false
   },
   "outputs": [
    {
     "name": "stdout",
     "output_type": "stream",
     "text": [
      "The mean value is:  4.5\n"
     ]
    }
   ],
   "source": [
    "# As an aside, Python built-ins make this even easier (if a bit less literal).\n",
    "x = range(10)\n",
    "mean = sum(x) / len(x)\n",
    "print('The mean value is: ', mean)"
   ]
  },
  {
   "cell_type": "markdown",
   "metadata": {},
   "source": [
    "### Continue\n",
    "The continue statement is quite useful when doing comparisons.  For example:"
   ]
  },
  {
   "cell_type": "code",
   "execution_count": 32,
   "metadata": {
    "collapsed": false
   },
   "outputs": [
    {
     "name": "stdout",
     "output_type": "stream",
     "text": [
      "0 1\n",
      "0 2\n",
      "1 0\n",
      "1 2\n",
      "2 0\n",
      "2 1\n"
     ]
    }
   ],
   "source": [
    "for i in range(3):\n",
    "    for j in range(3):\n",
    "        if i == j:\n",
    "            continue\n",
    "        else:\n",
    "            print(i, j)"
   ]
  },
  {
   "cell_type": "markdown",
   "metadata": {},
   "source": [
    "Here is another line by line breakdown:\n",
    "1. Iterate over the range (0, 1, 2)\n",
    "2. Inside of the first loop iterate over the range(0,1,2)\n",
    "3. Should be pretty self-explanatory?\n",
    "4. If line 3 is True, then we continue.  Do not execute any more code in this for loop and return to line 2.  If this is the last time line 2 would be exectude, return to line 1.\n",
    "\n",
    "The idea is that we can check some condition and depending on the result, either proceed with the code execution or `continue` with the for loop.\n",
    "\n",
    "In the week that we look at functional programming we will have a look at a clear way to accomplish this.  For now, this is great practice using iteration and conditional execution."
   ]
  },
  {
   "cell_type": "markdown",
   "metadata": {},
   "source": [
    "## Files\n",
    "\n",
    "The readings offer one way to get access to a file and read information either line by line or in the entirety.  Another syntax that you will frequently encounter utilizes a context manager.  Without diving into lots of detail about how `__enter__` and `__exit__` are working with a context manager, we can simply say that the `with` keyword manages entering, working on, and exiting from some runtime context.  Take the following example:"
   ]
  },
  {
   "cell_type": "code",
   "execution_count": 3,
   "metadata": {
    "collapsed": false
   },
   "outputs": [
    {
     "name": "stdout",
     "output_type": "stream",
     "text": [
      "Shall I compare thee to a summer's day?\n",
      "\n",
      "Thou art more lovely and more temperate:\n",
      "\n",
      "Rough winds do shake the darling buds of May,\n",
      "\n",
      "And summer's lease hath all too short a date.\n",
      "\n"
     ]
    }
   ],
   "source": [
    "with open('example.txt', 'r') as f:\n",
    "    lines = f.readlines()\n",
    "    for l in lines:\n",
    "        print(l)"
   ]
  },
  {
   "cell_type": "markdown",
   "metadata": {},
   "source": [
    "Here, a text file is being opened in read mode (`'r'`) using a context manager (`with`).  Since everything in Python is an object, we go ahead and assign the opened file object to a variable, `f`.  The text file is then being read in (as per the readings from last week) and the lines printed.\n",
    "\n",
    "How does this benefit us?  Enter the need to read some kind of structured data that already has a Python module to support parsing.  Take this example where we load a tweet (the response of scraping twitter using their API)."
   ]
  },
  {
   "cell_type": "markdown",
   "metadata": {},
   "source": [
    "## Working with JSON"
   ]
  },
  {
   "cell_type": "code",
   "execution_count": 7,
   "metadata": {
    "collapsed": false
   },
   "outputs": [
    {
     "data": {
      "text/plain": [
       "{'contributors': None,\n",
       " 'coordinates': None,\n",
       " 'created_at': 'Thu Oct 21 16:02:46 +0000 2010',\n",
       " 'entities': {'hashtags': [],\n",
       "  'urls': [{'expanded_url': None,\n",
       "    'indices': [69, 100],\n",
       "    'url': 'http://gnip.com/success_stories'}],\n",
       "  'user_mentions': [{'id': 16958875,\n",
       "    'id_str': '16958875',\n",
       "    'indices': [25, 30],\n",
       "    'name': 'Gnip, Inc.',\n",
       "    'screen_name': 'gnip'}]},\n",
       " 'favorited': False,\n",
       " 'geo': None,\n",
       " 'id': 28039652140,\n",
       " 'id_str': '28039652140',\n",
       " 'in_reply_to_screen_name': None,\n",
       " 'in_reply_to_status_id': None,\n",
       " 'in_reply_to_status_id_str': None,\n",
       " 'in_reply_to_user_id': None,\n",
       " 'in_reply_to_user_id_str': None,\n",
       " 'place': None,\n",
       " 'retweet_count': None,\n",
       " 'retweeted': False,\n",
       " 'source': 'web',\n",
       " 'text': \"what we've been up to at @gnip -- delivering data to happy customers http://gnip.com/success_stories\",\n",
       " 'truncated': False,\n",
       " 'user': {'contributors_enabled': False,\n",
       "  'created_at': 'Fri Oct 24 23:22:09 +0000 2008',\n",
       "  'description': 'Gnip makes it really easy for you to collect social data for your business.',\n",
       "  'favourites_count': 1,\n",
       "  'follow_request_sent': False,\n",
       "  'followers_count': 260,\n",
       "  'following': False,\n",
       "  'friends_count': 71,\n",
       "  'geo_enabled': True,\n",
       "  'id': 16958875,\n",
       "  'id_str': '16958875',\n",
       "  'lang': 'en',\n",
       "  'listed_count': 23,\n",
       "  'location': 'Boulder, CO',\n",
       "  'name': 'Gnip, Inc.',\n",
       "  'notifications': False,\n",
       "  'profile_background_color': 'C0DEED',\n",
       "  'profile_background_image_url': 'http://s.twimg.com/a/1287010001/images/themes/theme1/bg.png',\n",
       "  'profile_background_tile': False,\n",
       "  'profile_image_url': 'http://a3.twimg.com/profile_images/62803643/icon_normal.png',\n",
       "  'profile_link_color': '0084B4',\n",
       "  'profile_sidebar_border_color': 'C0DEED',\n",
       "  'profile_sidebar_fill_color': 'DDEEF6',\n",
       "  'profile_text_color': '333333',\n",
       "  'profile_use_background_image': True,\n",
       "  'protected': False,\n",
       "  'screen_name': 'gnip',\n",
       "  'show_all_inline_media': False,\n",
       "  'statuses_count': 302,\n",
       "  'time_zone': 'Mountain Time (US & Canada)',\n",
       "  'url': 'http://blog.gnip.com',\n",
       "  'utc_offset': -25200,\n",
       "  'verified': False}}"
      ]
     },
     "execution_count": 7,
     "metadata": {},
     "output_type": "execute_result"
    }
   ],
   "source": [
    "import json\n",
    "\n",
    "with open('example.json', 'r') as f:\n",
    "    d = json.load(f)\n",
    "\n",
    "d  # iPython pretty prints"
   ]
  },
  {
   "cell_type": "markdown",
   "metadata": {},
   "source": [
    "This is a 'boring tweet - no spatial data.  How can we access the tweet text?  The loaded information is a Python dictionary, so by key."
   ]
  },
  {
   "cell_type": "code",
   "execution_count": 8,
   "metadata": {
    "collapsed": false
   },
   "outputs": [
    {
     "data": {
      "text/plain": [
       "\"what we've been up to at @gnip -- delivering data to happy customers http://gnip.com/success_stories\""
      ]
     },
     "execution_count": 8,
     "metadata": {},
     "output_type": "execute_result"
    }
   ],
   "source": [
    "d['text']"
   ]
  },
  {
   "cell_type": "markdown",
   "metadata": {},
   "source": [
    "As a bit more interesting access - how can we get the number of follwers that the person writing the tweet has?  Looking at the JSON above, I see that the `followers_count` value is nested inside of a dict with the key `user`.  This looks like a dict within a dict."
   ]
  },
  {
   "cell_type": "code",
   "execution_count": 9,
   "metadata": {
    "collapsed": false
   },
   "outputs": [
    {
     "name": "stdout",
     "output_type": "stream",
     "text": [
      "260\n"
     ]
    }
   ],
   "source": [
    "print(d['user']['followers_count'])"
   ]
  },
  {
   "cell_type": "markdown",
   "metadata": {},
   "source": [
    "Or we can assign the sub-dict to a variable and get in that way."
   ]
  },
  {
   "cell_type": "code",
   "execution_count": 13,
   "metadata": {
    "collapsed": false
   },
   "outputs": [
    {
     "name": "stdout",
     "output_type": "stream",
     "text": [
      "dict_keys(['id_str', 'contributors_enabled', 'utc_offset', 'following', 'verified', 'profile_background_color', 'created_at', 'notifications', 'show_all_inline_media', 'favourites_count', 'description', 'profile_sidebar_fill_color', 'follow_request_sent', 'lang', 'profile_sidebar_border_color', 'location', 'profile_image_url', 'profile_use_background_image', 'profile_text_color', 'listed_count', 'friends_count', 'protected', 'statuses_count', 'time_zone', 'id', 'screen_name', 'profile_background_image_url', 'profile_background_tile', 'profile_link_color', 'name', 'geo_enabled', 'followers_count', 'url'])\n",
      "\n",
      "260\n"
     ]
    }
   ],
   "source": [
    "user = d['user']\n",
    "print(user.keys())\n",
    "print()  # Print a blank line\n",
    "print(user['followers_count'])"
   ]
  },
  {
   "cell_type": "markdown",
   "metadata": {},
   "source": [
    "As an aside that will help with the assignment.  Think about how you might work with a list of tweets (or a list of GeoJson object).  Here is a really contrived example:"
   ]
  },
  {
   "cell_type": "code",
   "execution_count": 16,
   "metadata": {
    "collapsed": false
   },
   "outputs": [],
   "source": [
    "# Here I create a list of 10 identical tweets.  \n",
    "# Print these if you want to see what we get or try something like, ['a'] * 10\n",
    "tweets = [d] * 10 "
   ]
  },
  {
   "cell_type": "code",
   "execution_count": 19,
   "metadata": {
    "collapsed": false
   },
   "outputs": [
    {
     "name": "stdout",
     "output_type": "stream",
     "text": [
      "what we've been up to at @gnip -- delivering data to happy customers http://gnip.com/success_stories 260\n",
      "what we've been up to at @gnip -- delivering data to happy customers http://gnip.com/success_stories 260\n",
      "what we've been up to at @gnip -- delivering data to happy customers http://gnip.com/success_stories 260\n",
      "what we've been up to at @gnip -- delivering data to happy customers http://gnip.com/success_stories 260\n",
      "what we've been up to at @gnip -- delivering data to happy customers http://gnip.com/success_stories 260\n",
      "what we've been up to at @gnip -- delivering data to happy customers http://gnip.com/success_stories 260\n",
      "what we've been up to at @gnip -- delivering data to happy customers http://gnip.com/success_stories 260\n",
      "what we've been up to at @gnip -- delivering data to happy customers http://gnip.com/success_stories 260\n",
      "what we've been up to at @gnip -- delivering data to happy customers http://gnip.com/success_stories 260\n",
      "what we've been up to at @gnip -- delivering data to happy customers http://gnip.com/success_stories 260\n"
     ]
    }
   ],
   "source": [
    "for t in tweets:  # Iterate over the list:\n",
    "    print(t['text'], t['user']['followers_count'])"
   ]
  },
  {
   "cell_type": "markdown",
   "metadata": {},
   "source": [
    "## GeoJSON\n",
    "Above I talked for a moment about GeoJSON.  What is geoJSON?\n",
    "\n",
    "> GeoJSON is a format for encoding a variety of geographic data structures. A GeoJSON object may represent a geometry, a feature, or a collection of features. GeoJSON supports the following geometry types: Point, LineString, Polygon, MultiPoint, MultiLineString, MultiPolygon, and GeometryCollection. Features in GeoJSON contain a geometry object and additional properties, and a feature collection represents a list of features.\n",
    "\n",
    "> A complete GeoJSON data structure is always an object (in JSON terms). In GeoJSON, an object consists of a collection of name/value pairs -- also called members. For each member, the name is always a string. Member values are either a string, number, object, array or one of the literals: true, false, and null. An array consists of elements where each element is a value as described above.\n",
    "\n",
    "From: http://geojson.org/geojson-spec.html\n",
    "\n",
    "Here is an example of a GeoJSON file with mixed geometries (highly unlikley that you will encounter mixed geometries, but a valid example none the less).  I have added the triple quotes because I want to create a formatted string and retain the `\\n` newline characters."
   ]
  },
  {
   "cell_type": "raw",
   "metadata": {},
   "source": [
    "gj = \"\"\"{ \"type\": \"FeatureCollection\",\n",
    "    \"features\": [\n",
    "      { \"type\": \"Feature\",\n",
    "        \"geometry\": {\"type\": \"Point\", \"coordinates\": [102.0, 0.5]},\n",
    "        \"properties\": {\"prop0\": \"value0\"}\n",
    "        },\n",
    "      { \"type\": \"Feature\",\n",
    "        \"geometry\": {\n",
    "          \"type\": \"LineString\",\n",
    "          \"coordinates\": [\n",
    "            [102.0, 0.0], [103.0, 1.0], [104.0, 0.0], [105.0, 1.0]\n",
    "            ]\n",
    "          },\n",
    "        \"properties\": {\n",
    "          \"prop0\": \"value0\",\n",
    "          \"prop1\": 0.0\n",
    "          }\n",
    "        },\n",
    "      { \"type\": \"Feature\",\n",
    "         \"geometry\": {\n",
    "           \"type\": \"Polygon\",\n",
    "           \"coordinates\": [\n",
    "             [ [100.0, 0.0], [101.0, 0.0], [101.0, 1.0],\n",
    "               [100.0, 1.0], [100.0, 0.0] ]\n",
    "             ]\n",
    "         },\n",
    "         \"properties\": {\n",
    "           \"prop0\": \"value0\",\n",
    "           \"prop1\": {\"this\": \"that\"}\n",
    "           }\n",
    "         }\n",
    "       ]\n",
    "     }\"\"\""
   ]
  },
  {
   "cell_type": "markdown",
   "metadata": {},
   "source": [
    "A few things to notice here:\n",
    "\n",
    "  * The geojson is a dictionary when loaded into Python\n",
    "  * Root level keys are \"type\" and \"features.  A \"CRS\" (coordinate reference system) key could also be included.\n",
    "      * \"features\" are the 'good' stuff containing geometries and attributes (properties).\n",
    "      * \"features\" is a list, so iteration is by position (and not key like a dictionary).\n",
    "  * Every feature is a dictionary with two keys: \"geometry\" and \"properties\".  \n",
    "      * \"geometry\" and \"properties\" are dictionaries with values that can be basic types, lists, dicts, ect.\n",
    "      \n",
    "The implications of this are:\n",
    "  * If you want to iterate over the features you first need to grab the list out of the dictionary, e.g. `my_list_of_features = geojson['features']`.\n",
    "  * Once you have the list of features, if you want to access a specific attribute or geometry, you need to go back to dictionary style access, e.g. `feature[1]['properties']['prop0']`.\n",
    "  \n",
    "My biggest suggestion when working with structured data like this is to experiment.  The iPython notebooks work great to do this.  Simply get the file into memory (using the example above) and start iterating.  If the file is long, remember that you can always add a `break` to a loop."
   ]
  },
  {
   "cell_type": "markdown",
   "metadata": {},
   "source": [
    "## Formulas\n",
    "\n",
    "Here are a few formulas to help with this week.\n",
    "\n",
    "* Mean Center: $\\frac{\\sum_{i=1}^{n}x_{i}}{n},\\frac{\\sum_{i=1}^{n}y_{i}}{n}$, where $n$ is the number of points, $x$ is the X coordinate of a point, $y$ is a Y coordinate of a point, and $i$ is an index.\n",
    "* Average Nearest Neighbor Distance: $\\bar{D} = \\frac{\\sum_{i=1}^{n}d_{i}}{n}$, where $D$ is the mean nearest neighbor distance, $d_{i}$ is the nearest neighbor distance between the $i^{th}$ observation and all other, $j$ observations ($i \\neq j$), and $n$ is the total number of observations.\n",
    "* Expected Average Nearest Neighbor Distance: $\\bar{E(d)} = \\frac{1}{2}\\sqrt{\\frac{A}{n}}$, where $\\bar{E(d)}$ is the expected average nearest neighbor distance, $A$ is the area (this statistic is very dependent upon this value), and $n$ is the total number of observations.  For those wondering about why the statistics is so dependent upon $A$, recall edge effects from your spatial statistics course(s)."
   ]
  },
  {
   "cell_type": "markdown",
   "metadata": {},
   "source": [
    "# Week 5 Deliverables (E4) - Due 2/23/16\n",
    "For this week make sure that you have completed the following:\n",
    "    \n",
    "   \n",
    "* Fork Assignment 4 to your own github repository.\n",
    "    * You can access assignment 4 [HERE](https://github.com/Geospatial-Python/assignment_04)\n",
    "* Clone the repository locally\n",
    "* Make the necessary code changes to `point_pattern.py` so that tests are passing locally\n",
    "    * Like last assignment, we are going to be working with point patterns.  The readings focused on iteration, sequences, and conditional execution.  We are going to use these concepts to write functions to:\n",
    "        1. Read a geojson file\n",
    "        2. Parse a geojson file to find the largest city by population\n",
    "        3. Write your own code to do something interesting with the geojson\n",
    "        4. Compute the mean center of a point pattern\n",
    "        5. Compute the average distance between neighbors\n",
    "        6. Compute the miminum bounding rectangle (MBR) on a point pattern\n",
    "        7. Compute the area of a MBR\n",
    "        8. Compute the expected mean distance for a given point pattern\n",
    "        \n",
    "* For #3, above, make sure to update `test/tests.py` with a passing test\n",
    "* Submit a pull request to the Geospatial_Python Assignment 4 repository.\n",
    "\n",
    "Any questions, please post on the discussion forum."
   ]
  },
  {
   "cell_type": "code",
   "execution_count": null,
   "metadata": {
    "collapsed": true
   },
   "outputs": [],
   "source": []
  }
 ],
 "metadata": {
  "kernelspec": {
   "display_name": "Python 3",
   "language": "python",
   "name": "python3"
  },
  "language_info": {
   "codemirror_mode": {
    "name": "ipython",
    "version": 3
   },
   "file_extension": ".py",
   "mimetype": "text/x-python",
   "name": "python",
   "nbconvert_exporter": "python",
   "pygments_lexer": "ipython3",
   "version": "3.5.1"
  }
 },
 "nbformat": 4,
 "nbformat_minor": 0
}
