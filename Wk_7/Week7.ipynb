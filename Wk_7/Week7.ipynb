{
 "cells": [
  {
   "cell_type": "markdown",
   "metadata": {},
   "source": [
    "# Object Oriented Programming\n",
    "This week we will look at writing in a slightly more object oriented way.  This is still a fusion of functional and OO programming.  I am of the opinion that neither is superior to the other for all tasks.  Both are appropriate for structuring and solving different problems."
   ]
  },
  {
   "cell_type": "markdown",
   "metadata": {},
   "source": [
    "## Classes\n",
    "A class in Python is declared much in the same way that a function is declared.  We will swap `def` for `class`.  A basic class definition looks like:\n",
    "\n",
    "```python\n",
    "class Foo(object):\n",
    "    def __init__(self):\n",
    "        pass\n",
    "```\n",
    "\n",
    "Here we say, I am declaring a class called `Foo`.  This class inherets from the `object` baseclass.  As an aside - everything in Python is an object, and this declaration is included to create a [new style class](http://stackoverflow.com/questions/54867/what-is-the-difference-between-old-style-and-new-style-classes-in-python) (that link is only if you are interested in the distinction).  A class will have an `__init__` method that takes one or more initialization arguments.  This class takes none.  \n",
    "\n",
    "You may have noticed `self` being included in the `__init__` methods signature.  Every method (save [@classmethod](http://stackoverflow.com/questions/136097/what-is-the-difference-between-staticmethod-and-classmethod-in-python) and [@staticmethod](http://stackoverflow.com/questions/136097/what-is-the-difference-between-staticmethod-and-classmethod-in-python)) will have `self` as the first argument.  In Python, an instance of a class automatically passes itself to a method of said class.  Methods do not implicitly accept the class instance as the first argument.  Instead the method explicitly takes `self` as the first argument.  Note, `self` is used only by convention.\n",
    "\n",
    "The `__init__` method here does not do anything.  This is still a valid class that we can create instances of:\n"
   ]
  },
  {
   "cell_type": "code",
   "execution_count": 2,
   "metadata": {
    "collapsed": false
   },
   "outputs": [
    {
     "name": "stdout",
     "output_type": "stream",
     "text": [
      "<__main__.Foo object at 0x106614d68>\n",
      "<__main__.Foo object at 0x106614da0>\n"
     ]
    }
   ],
   "source": [
    "class Foo(object):\n",
    "    def __init__(self):\n",
    "        pass\n",
    "    \n",
    "f1 = Foo()\n",
    "f2 = Foo()\n",
    "\n",
    "print(f1)\n",
    "print(f2)"
   ]
  },
  {
   "cell_type": "markdown",
   "metadata": {},
   "source": [
    "Here I have defined the class in a code cell and created two instances, `f1` and `f2`.  These are two distinct realizations of the class with their own memory addresses."
   ]
  },
  {
   "cell_type": "code",
   "execution_count": 3,
   "metadata": {
    "collapsed": false
   },
   "outputs": [
    {
     "data": {
      "text/plain": [
       "__main__.Foo"
      ]
     },
     "execution_count": 3,
     "metadata": {},
     "output_type": "execute_result"
    }
   ],
   "source": [
    "type(f1)"
   ]
  },
  {
   "cell_type": "markdown",
   "metadata": {},
   "source": [
    "Above, we see that the type of `f1` is Foo.  The `__main__.` is added by iPython since Foo lives in the `__main__` namespace.  If that is not 100% clear, the important take away is that all instances of `Foo` are type `Foo`.\n",
    "\n",
    "Not let's add some attributes to the class."
   ]
  },
  {
   "cell_type": "markdown",
   "metadata": {},
   "source": [
    "## Attributes"
   ]
  },
  {
   "cell_type": "code",
   "execution_count": 4,
   "metadata": {
    "collapsed": true
   },
   "outputs": [],
   "source": [
    "class Foo(object):\n",
    "    def __init__(self, a, b, attributes={}):\n",
    "        self.a = a\n",
    "        self.b = b\n",
    "        self.attributes = attributes"
   ]
  },
  {
   "cell_type": "markdown",
   "metadata": {},
   "source": [
    "Instead of `__init__` taking no arguments, it now requires an `a` and `b` positional argument.  Additionally, it can accept an `attributes` keyword argument.  \n",
    "\n",
    "Once these arguments are passed in, we assign them as variables to the instance of the class."
   ]
  },
  {
   "cell_type": "code",
   "execution_count": 5,
   "metadata": {
    "collapsed": true
   },
   "outputs": [],
   "source": [
    "f1 = Foo(10, 'car', attributes={'bar':0})"
   ]
  },
  {
   "cell_type": "markdown",
   "metadata": {},
   "source": [
    "Think about what the above class attributes will end up being.  What attribute will equal 10?  What will `b` equal?"
   ]
  },
  {
   "cell_type": "code",
   "execution_count": 6,
   "metadata": {
    "collapsed": false
   },
   "outputs": [
    {
     "data": {
      "text/plain": [
       "10"
      ]
     },
     "execution_count": 6,
     "metadata": {},
     "output_type": "execute_result"
    }
   ],
   "source": [
    "f1.a"
   ]
  },
  {
   "cell_type": "code",
   "execution_count": 7,
   "metadata": {
    "collapsed": false
   },
   "outputs": [
    {
     "data": {
      "text/plain": [
       "'car'"
      ]
     },
     "execution_count": 7,
     "metadata": {},
     "output_type": "execute_result"
    }
   ],
   "source": [
    "f1.b"
   ]
  },
  {
   "cell_type": "code",
   "execution_count": 8,
   "metadata": {
    "collapsed": false
   },
   "outputs": [
    {
     "data": {
      "text/plain": [
       "{'bar': 0}"
      ]
     },
     "execution_count": 8,
     "metadata": {},
     "output_type": "execute_result"
    }
   ],
   "source": [
    "f1.attributes"
   ]
  },
  {
   "cell_type": "markdown",
   "metadata": {},
   "source": [
    "We can use dot notation to access attributes of a class.  Note that the attributes do not take parantheses after the name.  The use of parantheses denotes a method call (below).\n",
    "\n",
    "Attributes defined within a class method are unique to that instance.  See how `a` is different for `f1` and `f2`."
   ]
  },
  {
   "cell_type": "code",
   "execution_count": 22,
   "metadata": {
    "collapsed": false
   },
   "outputs": [
    {
     "name": "stdout",
     "output_type": "stream",
     "text": [
      "f1.a = 0\n",
      "f2.a = a\n"
     ]
    }
   ],
   "source": [
    "f1 = Foo(0,1)\n",
    "f2 = Foo('a', 'b')\n",
    "print('f1.a = {}'.format(f1.a))\n",
    "print('f2.a = {}'.format(f2.a))"
   ]
  },
  {
   "cell_type": "markdown",
   "metadata": {},
   "source": [
    "It is possible to modify a class attribute once the instance is created.  This is done just like you are assigning a variable:"
   ]
  },
  {
   "cell_type": "code",
   "execution_count": 23,
   "metadata": {
    "collapsed": false
   },
   "outputs": [
    {
     "name": "stdout",
     "output_type": "stream",
     "text": [
      "The original value was 0\n",
      "The new value is 17\n"
     ]
    }
   ],
   "source": [
    "print('The original value was {}'.format(f1.a))\n",
    "f1.a = 17\n",
    "print('The new value is {}'.format(f1.a))"
   ]
  },
  {
   "cell_type": "markdown",
   "metadata": {},
   "source": [
    "If we want to have a class attribute that is not unique to each instance, we must declare it outside of the methods.\n",
    "\n",
    "In the example below, the attribute `x` is shared between all instances of the class."
   ]
  },
  {
   "cell_type": "code",
   "execution_count": 16,
   "metadata": {
    "collapsed": false
   },
   "outputs": [],
   "source": [
    "class Foo(object):\n",
    "    x = 1\n",
    "    def __init__(self, a, b):\n",
    "        self.a = a\n",
    "        self.b = b\n",
    "        \n",
    "f1 = Foo(0,1)\n",
    "f2 = Foo('a', 'b')"
   ]
  },
  {
   "cell_type": "markdown",
   "metadata": {},
   "source": [
    "### Additional Information:\n",
    "\n",
    "<img src='images/classes.png' />\n",
    "\n",
    "For another take on class attributes, [this article](https://www.toptal.com/python/python-class-attributes-an-overly-thorough-guide) is a pretty good one, drawn from a collaborative text editor phone interview."
   ]
  },
  {
   "cell_type": "markdown",
   "metadata": {},
   "source": [
    "## Methods\n",
    "\n",
    "Class methods are defined in much the same way as functions.  As described above, they will (almost always) include self as the first argument.\n",
    "\n",
    "Imagine a class like the one below.  The class has a single 'public' method (no `_` or `__` before the name) that increments the attribute `a` by some value.  "
   ]
  },
  {
   "cell_type": "code",
   "execution_count": 1,
   "metadata": {
    "collapsed": true
   },
   "outputs": [],
   "source": [
    "class Foo(object):\n",
    "    def __init__(self, a, b, kw='hello'):\n",
    "        self.a = a\n",
    "        self.b = b\n",
    "        self.kw = kw\n",
    "        \n",
    "    def increment_a(self, increment):\n",
    "        self.a += increment"
   ]
  },
  {
   "cell_type": "markdown",
   "metadata": {
    "collapsed": false
   },
   "source": [
    "To utilize the `increment_a` method, we first create an instance of the class.  Then we can call `instance.increment_a`, like so:"
   ]
  },
  {
   "cell_type": "code",
   "execution_count": 5,
   "metadata": {
    "collapsed": false
   },
   "outputs": [
    {
     "name": "stdout",
     "output_type": "stream",
     "text": [
      "f1.a equals 0\n",
      "f1.a now equals 1\n",
      "f1.a now equals 10\n"
     ]
    }
   ],
   "source": [
    "f1 = Foo(0,1)\n",
    "print('f1.a equals {}'.format(f1.a))\n",
    "\n",
    "# Call the method\n",
    "f1.increment_a(1)\n",
    "print('f1.a now equals {}'.format(f1.a))\n",
    "\n",
    "# Call the method again\n",
    "f1.increment_a(9)\n",
    "print('f1.a now equals {}'.format(f1.a))"
   ]
  },
  {
   "cell_type": "markdown",
   "metadata": {},
   "source": [
    "It is also possible (common even) to have a method return something.  For example:"
   ]
  },
  {
   "cell_type": "code",
   "execution_count": 6,
   "metadata": {
    "collapsed": true
   },
   "outputs": [],
   "source": [
    "class Foo(object):\n",
    "    def __init__(self, a, b, kw='hello'):\n",
    "        self.a = a\n",
    "        self.b = b\n",
    "        self.kw = kw\n",
    "        \n",
    "    def a_equals_b(self):\n",
    "        if self.a == self.b:\n",
    "            return True\n",
    "        else:\n",
    "            return False"
   ]
  },
  {
   "cell_type": "code",
   "execution_count": 9,
   "metadata": {
    "collapsed": false
   },
   "outputs": [
    {
     "name": "stdout",
     "output_type": "stream",
     "text": [
      "f1.a equals f1.b? - False\n",
      "f1.a equals f1.b? - True\n"
     ]
    }
   ],
   "source": [
    "f1 = Foo(0,1)\n",
    "print('f1.a equals f1.b? - {}'.format(f1.a_equals_b()))\n",
    "\n",
    "# Now upadate the value of b and try again:\n",
    "f1.b = 0\n",
    "print('f1.a equals f1.b? - {}'.format(f1.a_equals_b()))"
   ]
  },
  {
   "cell_type": "markdown",
   "metadata": {},
   "source": [
    "Finally, it frequently makes sense for a class to have a method for to do something that already exists as a function.  In strict OO languages this might be a time to write a base class.  In more functional langauges it is common to simply patch in the logic.  Take the following example where a function, `logic` patched into `Foo`."
   ]
  },
  {
   "cell_type": "code",
   "execution_count": 14,
   "metadata": {
    "collapsed": true
   },
   "outputs": [],
   "source": [
    "def logic(point, x_shift, y_shift):\n",
    "    x = point[0]\n",
    "    y = point[1]\n",
    "    \n",
    "    return x + x_shift, y + y_shift\n",
    "    \n",
    "class Foo(object):\n",
    "    def __init__(self, a, b, kw='hello'):\n",
    "        self.a = a\n",
    "        self.b = b\n",
    "        self.kw = kw\n",
    "        \n",
    "    def patched_logic(self, x_move, y_move):\n",
    "        point = (self.a, self.b)\n",
    "        self.a, self.b = logic(point, x_move, y_move)"
   ]
  },
  {
   "cell_type": "code",
   "execution_count": 18,
   "metadata": {
    "collapsed": false
   },
   "outputs": [
    {
     "name": "stdout",
     "output_type": "stream",
     "text": [
      "f1.a, f1.b = 0,0\n",
      "f1.a, f1.b = 1,1\n"
     ]
    }
   ],
   "source": [
    "f1 = Foo(0,0)\n",
    "print('f1.a, f1.b = {},{}'.format(f1.a, f1.b))\n",
    "\n",
    "#Now call the patched_logic method (that really just passes on to the logic function)\n",
    "f1.patched_logic(1,1)\n",
    "\n",
    "print('f1.a, f1.b = {},{}'.format(f1.a, f1.b))"
   ]
  },
  {
   "cell_type": "markdown",
   "metadata": {},
   "source": [
    "So the values of `a` and `b` were updated by the `patched_logic` method.  The `patched_logic` method handled the smudging of the attributes into the form that `logic` was expecting and then knew how to get the result smudged back into the attributes.  Your assignment this week asks you to do something that can be accomplished using this precise technique."
   ]
  },
  {
   "cell_type": "markdown",
   "metadata": {},
   "source": [
    "# Week 8 Deliverables (E5) - Due 3/8/16\n",
    "For this week make sure that you have completed the following:\n",
    "    \n",
    "   \n",
    "* Fork Assignment 6 to your own github repository.\n",
    "    * You can access assignment 6 [HERE](https://github.com/Geospatial-Python/assignment_06)\n",
    "* Clone the repository locally\n",
    "\n",
    "## Deliverables\n",
    "1. Move your code (logic and tests) from assignment 05 into the assigment 06 repository and run `nosetests` to make sure you are building on your previous work.\n",
    "1. Create a point class with three attributes, `x`, `y`, and a keyword argument `mark`.  Please place the point pattern class in `point.py`.\n",
    "1. Add a method to the Point class to check if another point, passed as an argument, is coincident.  Remember that you already wrote this logic.\n",
    "1. Add a method to shift the point in some direction.  This logic is also already written.\n",
    "1. Create a `.py` file in the `tests/` directory (maybe `point_test.py`) that:\n",
    "\t* Tests that the class sets the `x` and `y` attribute correctly\n",
    "\t* Tests that you can pass a coincident point to the coincident point checking method and return True, and pass a non-conicident point to return False.\n",
    "\t* Tests that you can shift the points in some arbitrary direction correctly. \n",
    "\t* Tests that you can create marked points properly.  To do this:\n",
    "\t\t* Seed a random number generator (see the functional test from last week if you are unsure how to do this).\n",
    "\t\t* Create a list of marks, e.g. `marks = ['red', 'blue']` (please use something different than red/blue).\n",
    "\t\t* Use `random.choice` to randomly select a mark and instantiate maybe 10 or 20.\n",
    "\t\t* Create a list of your points and maybe count the number of times each mark comes up.\n",
    "\t\t* Assert that the count is the same every time.\n",
    "\t* If you have trouble with import statements or getting this test to run:\n",
    "\t\t1. Check the other working tests and try to get a stripped down version working.\n",
    "\t\t2. Post in the forums with a code example. \t\n",
    "1. Alter your average nearest neighbor distance check to \n",
    "\t* Take a list of instances of your point class.\n",
    "\t* Accept a `mark` keyword argument where you can compute an average nearest neighbor distance for points with a shared `mark`.  If `mark` is not provided, compute the average nearest neighbor using all points.\n",
    "1. Update or write a new function to create n random Points, where Point is an instance of your point class (instead of a tuple, last the previous few weeks).  This function should now be able to accept a list of potential marks and randomly mark a point.  A potential function signature might be:\n",
    " \n",
    "\t```python\n",
    "\tfrom points import Point\n",
    "\tdef create_random_marked_points(n, marks=[]):\n",
    "\t    # for i in range(n):\n",
    "\t\t    # get random x and y\n",
    "\t   \t   \t# randomly select a mark\n",
    "\t\t    # create a point\n",
    "\t\t    # Add it to a list\n",
    "\t```\n",
    "\n",
    "1. Update the functional test to:\n",
    "\t* Perform the same test as in assignment 5 (take all of the points, find the average nearest, generate n_random points, and find the critical points.  You should be able to update `test_point_pattern` to do this.\n",
    "\t* Write a new test that does an identical thing, but for each mark.  If you have two marks `['red, 'blue']` the test should compute the observed average nearest neighbor and the critical points for both the `red` marked points and the `blue` marked points.  I would generate at least 100 points and perform at least 99 permutations to get relatively stable numbers to base your tests off of (Note: I assume that you will get your test results from your tests.  This is not generally a great idea, but it is what we have to work with for now.)"
   ]
  },
  {
   "cell_type": "code",
   "execution_count": null,
   "metadata": {
    "collapsed": true
   },
   "outputs": [],
   "source": []
  }
 ],
 "metadata": {
  "kernelspec": {
   "display_name": "Python 3",
   "language": "python",
   "name": "python3"
  },
  "language_info": {
   "codemirror_mode": {
    "name": "ipython",
    "version": 3
   },
   "file_extension": ".py",
   "mimetype": "text/x-python",
   "name": "python",
   "nbconvert_exporter": "python",
   "pygments_lexer": "ipython3",
   "version": "3.5.1"
  }
 },
 "nbformat": 4,
 "nbformat_minor": 0
}
