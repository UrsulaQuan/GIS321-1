{
 "cells": [
  {
   "cell_type": "markdown",
   "metadata": {},
   "source": [
    "# Composition, Polymorphism, and Magic Methods\n",
    "\n",
    "Last week we looked at writing a point class and implementing a few methods.  This week, we are going to look at composition (in the context of a point pattern), polymorphism (by writing a simple average function), and magic methods (in the context of a point pattern)."
   ]
  },
  {
   "cell_type": "markdown",
   "metadata": {},
   "source": [
    "## Magic Methods\n",
    "\n",
    "In Python, classes can implement 'magic methods'.  These are the methods that add [syntax sugar](https://en.wikipedia.org/wiki/Syntactic_sugar) to your classes.  This allows you to do things like:"
   ]
  },
  {
   "cell_type": "code",
   "execution_count": 45,
   "metadata": {
    "collapsed": false
   },
   "outputs": [
    {
     "data": {
      "text/plain": [
       "True"
      ]
     },
     "execution_count": 45,
     "metadata": {},
     "output_type": "execute_result"
    }
   ],
   "source": [
    "class Foo(object):\n",
    "    def __init__(self, x):\n",
    "        self.x = x\n",
    "            \n",
    "    def __lt__(self, other):\n",
    "        return self.x < other.x\n",
    "    \n",
    "a = Foo(1)\n",
    "b = Foo(2)\n",
    "\n",
    "a < b"
   ]
  },
  {
   "cell_type": "markdown",
   "metadata": {},
   "source": [
    "Lines 1 - 3 should look pretty familiar.  In line 5, a magic method `__lt__` (less than) is declared.  These magic methods take two arguments: (1) the standard `self` and `other` (just a convention), where `other` is another instance of some class.  I say some class because, if we assume that the classes are polymorphic (more below) then the only requirements is that both `self` and `other` have the same attribute.  Line 6 utilizes the basic less then comparitor."
   ]
  },
  {
   "cell_type": "code",
   "execution_count": 71,
   "metadata": {
    "collapsed": false
   },
   "outputs": [
    {
     "name": "stdout",
     "output_type": "stream",
     "text": [
      "f1 equals f3? True\n",
      "f1 equals f2? False\n"
     ]
    }
   ],
   "source": [
    "class Foo(object):\n",
    "    def __init__(self, x, y):\n",
    "        self.x = x\n",
    "        self.y = y\n",
    "        \n",
    "    def __eq__(self, other):\n",
    "        return self.x == other.x and self.y == other.y\n",
    "    \n",
    "f1 = Foo(0,0)\n",
    "f2 = Foo(1,1)\n",
    "f3 = Foo(0,0)\n",
    "f4 = Foo(2,3)\n",
    "print('f1 equals f3? {}'.format(f1 == f3))\n",
    "print('f1 equals f2? {}'.format(f1 == f2))"
   ]
  },
  {
   "cell_type": "markdown",
   "metadata": {},
   "source": [
    "In the above class I added an `__eq__` method that is able to check if two instances of the class are coincident.  Additionally, I added an `__add__` method that will allow me to shift one instance of Foo using another instance of Foo.  Is that a good idea?  \n",
    "\n",
    "Probably not.  Every time that I wanted to move Foo, I would need to create another instance of Foo.  That might be fine if we only ever work with a few hundred or thousand instances of Foo.  If we suddenly have 100,000 Foo objects, performance can get really bad.\n",
    "\n",
    "Why then might I want to implement this functionality?"
   ]
  },
  {
   "cell_type": "code",
   "execution_count": 107,
   "metadata": {
    "collapsed": false
   },
   "outputs": [
    {
     "name": "stdout",
     "output_type": "stream",
     "text": [
      "[<__main__.Foo object at 0x108b3f128>, <__main__.Foo object at 0x1071a4da0>, <__main__.Foo object at 0x1071a4d30>, <__main__.Foo object at 0x106b7fd68>, <__main__.Foo object at 0x12aa5fbe0>]\n",
      "4.203392130983644 6.021351992373418\n"
     ]
    }
   ],
   "source": [
    "class Foo(object):\n",
    "    \n",
    "    def __init__(self, x, y):\n",
    "        self.x = x\n",
    "        self.y = y  \n",
    "    \n",
    "    def __add__(self, other):\n",
    "        return Foo(self.x + other.x, self.y + other.y)\n",
    "\n",
    "    def __radd__(self, other):\n",
    "        return Foo(self.x + other, self.y + other)\n",
    "    \n",
    "import random\n",
    "foos = []\n",
    "for i in range(10):\n",
    "    foos.append(Foo(random.random(), random.random()))\n",
    "print(foos[:5])  #Print the first 5 Foo objects\n",
    "\n",
    "foos[0] + foos[1]\n",
    "\n",
    "f = sum(foos)\n",
    "print(f.x, f.y)"
   ]
  },
  {
   "cell_type": "markdown",
   "metadata": {},
   "source": [
    "Here I have added a few more methods.\n",
    "\n",
    "Line 7 add the magic method `__add__` that allows us to add two classes together.  That is `Foo + Foo` will now return a summation.  A bit of syntac sugar to avoid having to write `Foo.x + Foo.x` and `Foo.y + Foo.y`.  It is nice to use the built-in `sum`.  To do this, we also need to implement `__radd__` (reverse add), since we do not know the order that the addition will take place. \n",
    "\n",
    "You might notice that lines 8 and 11 return type `Foo`.  This is because addition traditionally returns a numeric type, not a tuple.  In fact, if you try to return a tuple (that is, `return self.x + other.x, self.y + other.y`), you will get an error.\n",
    "\n",
    "Using the above example, can you image a way to compute the average `x` and `y` coordinates within a point pattern class using a bit of syntax sugar?"
   ]
  },
  {
   "cell_type": "code",
   "execution_count": 114,
   "metadata": {
    "collapsed": false
   },
   "outputs": [
    {
     "name": "stdout",
     "output_type": "stream",
     "text": [
      "[0.2678526834598254, 0.6468228660546533 \n",
      ", 0.9784540929749495, 0.6634830601808944 \n",
      ", 0.35210924933619114, 0.2363336463904232 \n",
      ", 0.9890096138924438, 0.9351983288435207 \n",
      ", 0.40441256080414645, 0.8853452411356617 \n",
      "]\n",
      "5.472358343232224, 6.229480482299518 \n",
      "\n"
     ]
    }
   ],
   "source": [
    "class Foo(object):\n",
    "    \n",
    "    def __init__(self, x, y):\n",
    "        self.x = x\n",
    "        self.y = y  \n",
    "    \n",
    "    def __repr__(self):\n",
    "        return \"\"\"{}, {} \\n\"\"\".format(self.x, self.y)\n",
    "    \n",
    "    def __add__(self, other):\n",
    "        return Foo(self.x + other.x, self.y + other.y)\n",
    "\n",
    "    def __radd__(self, other):\n",
    "        return Foo(self.x + other, self.y + other)\n",
    "    \n",
    "import random\n",
    "foos = []\n",
    "for i in range(10):\n",
    "    foos.append(Foo(random.random(), random.random()))\n",
    "print(foos[:5])  #Print the first 5 Foo objects\n",
    "\n",
    "foos[0] + foos[1]\n",
    "\n",
    "f = sum(foos)\n",
    "print(f)"
   ]
  },
  {
   "cell_type": "markdown",
   "metadata": {},
   "source": [
    "One final example.  Here I added a magic method, `__repr__`.  This is the representation of the class when we print it.  Notice how line 25 can now just print `f`.  This makes a call to `__repr__` and returns the x, y coordinates of the sum of the points."
   ]
  },
  {
   "cell_type": "markdown",
   "metadata": {},
   "source": [
    "For a bit more information about magic methods and a listing of available magic methods, check out: http://www.rafekettler.com/magicmethods.html"
   ]
  },
  {
   "cell_type": "markdown",
   "metadata": {},
   "source": [
    "## Polymorphism"
   ]
  },
  {
   "cell_type": "code",
   "execution_count": 123,
   "metadata": {
    "collapsed": false
   },
   "outputs": [
    {
     "data": {
      "text/plain": [
       "5.2, 8 "
      ]
     },
     "execution_count": 123,
     "metadata": {},
     "output_type": "execute_result"
    }
   ],
   "source": [
    "class Bar(object):\n",
    "    def __init__(self, x, y):\n",
    "        self.x = x\n",
    "        self.y = y\n",
    "        \n",
    "f = Foo(3, 4)\n",
    "b = Bar(2.2, 4)\n",
    "\n",
    "f + b # This only works in this order because Bar does not define a __add__ magic method."
   ]
  },
  {
   "cell_type": "markdown",
   "metadata": {},
   "source": [
    "A totally contrived example.  Imagine that I have a different class Bar that has `x` and `y` attributes.  I can leverage the polymorphic nature of `Foo` and `Bar` and allow the `__add__` magic method defined within `Foo` work with `Bar` objects.  That is, `Foo` has an interface that also happend to support `Bar`.   This leads directly to the idea of [duck typing](https://en.wikipedia.org/wiki/Duck_typing).  \n",
    "\n",
    "<center><h4>If it looks like a duck and quacks like a duck, it's a duck!</h4></center>\n",
    "\n",
    "<img src='images/duck.jpg' /img>\n",
    "Image from: https://www.toptal.com/python/python-design-patterns\n",
    "\n",
    "As the complexity of the code scales, we can start to define interfaces, instead of designing implementations.  The general idea is to always try and reduce complexity."
   ]
  },
  {
   "cell_type": "markdown",
   "metadata": {},
   "source": [
    "Polymorphism is not limited to just interface definition.  Polymorphic can also describe a function able to handle inputs of different types.  The `multiply` operator is a prime example."
   ]
  },
  {
   "cell_type": "code",
   "execution_count": 126,
   "metadata": {
    "collapsed": false
   },
   "outputs": [
    {
     "name": "stdout",
     "output_type": "stream",
     "text": [
      "aa\n",
      "-2.0\n"
     ]
    }
   ],
   "source": [
    "from operator import mul as multiply\n",
    "\n",
    "print(multiply('a', 2))\n",
    "print(multiply(2.0, -1))"
   ]
  },
  {
   "cell_type": "markdown",
   "metadata": {},
   "source": [
    "Above I import the multiply operator (`*`) as a function (instead of the syntax sugar representation).  Lines 3 and 4 demonstrate how the multiple operation is polymorphic.  The function supports multiplication of `int`, `float` and `str` types."
   ]
  },
  {
   "cell_type": "markdown",
   "metadata": {},
   "source": [
    "## Composition\n",
    "The readings also touched on inheritance, but I did not have you write any code leveraging the inheritance paradigm.  This was intentional, as the vast majority of the time, you do not want to utilize inheritance.  The complexity of the resultant code can quickly spiral out of control.\n",
    "\n",
    "One method to avoid inheritance is composition.  The readings do a fine job looking at composition in the context of a deck of cards.  \n",
    "\n",
    "Checkout this video (up to ~3:45) for a (comedic) description of why composition is prefered over inheretance."
   ]
  },
  {
   "cell_type": "code",
   "execution_count": 40,
   "metadata": {
    "collapsed": false
   },
   "outputs": [
    {
     "data": {
      "text/html": [
       "\n",
       "        <iframe\n",
       "            width=\"400\"\n",
       "            height=\"300\"\n",
       "            src=\"https://www.youtube.com/embed/wfMtDGfHWpA\"\n",
       "            frameborder=\"0\"\n",
       "            allowfullscreen\n",
       "        ></iframe>\n",
       "        "
      ],
      "text/plain": [
       "<IPython.lib.display.YouTubeVideo at 0x1065ac048>"
      ]
     },
     "execution_count": 40,
     "metadata": {},
     "output_type": "execute_result"
    }
   ],
   "source": [
    "from IPython.display import YouTubeVideo\n",
    "YouTubeVideo('wfMtDGfHWpA')"
   ]
  },
  {
   "cell_type": "markdown",
   "metadata": {},
   "source": [
    "Just like a deck of cards is composed of individual cards, a point pattern can be composed of individual points.  Here is an example definition of a GroupOfFoos:"
   ]
  },
  {
   "cell_type": "code",
   "execution_count": 129,
   "metadata": {
    "collapsed": false
   },
   "outputs": [
    {
     "name": "stdout",
     "output_type": "stream",
     "text": [
      "<__main__.GroupOfFoos object at 0x127f29828>\n",
      "[0.04037560677093355, 0.5441497683608197 \n",
      ", 0.5451802864321509, 0.8926015878452562 \n",
      ", 0.6571138202605632, 0.546172334555684 \n",
      ", 0.7652677780165273, 0.9465525758547306 \n",
      ", 0.7787402960693032, 0.18914850976043152 \n",
      ", 0.43096145362037275, 0.39962449626779983 \n",
      ", 0.42365022043838496, 0.40930623023548796 \n",
      ", 0.27973801396494047, 0.8305216361772596 \n",
      ", 0.34060363556013074, 0.9830810479601932 \n",
      ", 0.8682128803717428, 0.17934093092107484 \n",
      "]\n"
     ]
    }
   ],
   "source": [
    "class GroupOfFoos(object):\n",
    "    def __init__(self):\n",
    "        self.foos = []\n",
    "        \n",
    "    def add_foo(self, foo):\n",
    "        self.foos.append(foo)\n",
    "        \n",
    "    def remove_foo(self, index):\n",
    "        try:\n",
    "            del(self.foos[index])\n",
    "        except IndexError:\n",
    "            print('Index {} not in list'.format(index))\n",
    "\n",
    "g = GroupOfFoos()\n",
    "for i in range(10):\n",
    "    g.add_foo(Foo(random.random(), random.random()))\n",
    "    \n",
    "print(g)\n",
    "print(g.foos)  # Remember that the Foos object has a __repr__ defined."
   ]
  },
  {
   "cell_type": "markdown",
   "metadata": {},
   "source": [
    "# Week 8 Deliverables (E6) - Due 3/22/16\n",
    "For this week make sure that you have completed the following:\n",
    "    \n",
    "   \n",
    "* Fork Assignment 7 to your own github repository.\n",
    "    * You can access assignment 7 [HERE](https://github.com/Geospatial-Python/assignment_07)\n",
    "* Clone the repository locally\n",
    "\n",
    "## Deliverables\n",
    "1. Update your Point class to utilize at least 3 magic methods.  You are free to choose what magic methods to implement.  Be sure to write a test for each magic method that you implement.  In fact, write the test first, then write the magic method.\n",
    "1. Create a PointPattern class.  This class should be able to compute statistics about your point pattern.  It should be able to:\n",
    "    * Average nearest neighbor distance (with or without mark specification)\n",
    "    * Number of coincident points\n",
    "    * List the marks, for example if the points are marked 'r' and 'b', this should return ['r', 'b']\n",
    "    * Return a subset of points by mark type\n",
    "    * Generate $n$ random points where $n$ is either provided by the user or equal to the current size of the point pattern.\n",
    "    * Generate $k$ realizations of random points.  That is, simulate $k$ random point patterns for use in Monte Carlo simulation.\n",
    "    * Return the critical points from the nearest neighbor simulation\n",
    "1. Add the ability to compute a G function on the point pattern class (more below).\n",
    "    * The point pattern has a method to compute the observed G function (`compute_g` maybe)\n",
    "    * The method should take a single argument, `nsteps`.  This is the number of discrete $d$ that are used to compute $\\hat{G}(d)$.\n",
    "    * Hint: You can get a range of d to iterate over using something like\n",
    " \n",
    "    ```python\n",
    "    import numpy as np \n",
    "    ds = np.linspace(some_min_distance, some_max_distance, nsteps)\n",
    "    ```\n",
    "    \n",
    "    we will look more a using numpy later, for now though, this should work to get you a float range to test."
   ]
  },
  {
   "cell_type": "markdown",
   "metadata": {},
   "source": [
    "### The G Function\n",
    "\n",
    "Formally, the G Function is defined as:\n",
    "\n",
    "## $\\hat{G}(d) = \\frac{\\sum_{i=0}^n[d_{min}(o_{i}) \\le d]}{N}$\n",
    "\n",
    "where, $d_min$ is the minimum distance between observation ($o$) $i$ and all other observations, bracket (Iverson) notation indicates a count, and $d$ is a user specified distance, and $N$ is the number of observations.  Plainly, the G Function requires that the user identify some number of distance bands.  The more distance bands, the (potentially) more continious the G-Function will look.  For each distance band, a count os perfored, for the number of observations that have a nearest neighbor within that distance.  The count is then divided by the number of observations and the next distance band is checked."
   ]
  },
  {
   "cell_type": "code",
   "execution_count": 9,
   "metadata": {
    "collapsed": false
   },
   "outputs": [
    {
     "name": "stdout",
     "output_type": "stream",
     "text": [
      "Populating the interactive namespace from numpy and matplotlib\n"
     ]
    },
    {
     "data": {
      "text/plain": [
       "<matplotlib.text.Text at 0x10f53a2b0>"
      ]
     },
     "execution_count": 9,
     "metadata": {},
     "output_type": "execute_result"
    },
    {
     "data": {
      "image/png": "[encoded data removed]",
      "text/plain": [
       "<matplotlib.figure.Figure at 0x10f517da0>"
      ]
     },
     "metadata": {},
     "output_type": "display_data"
    }
   ],
   "source": [
    "# Sample G(d) result\n",
    "%pylab inline\n",
    "\n",
    "gd = [0.04, 0.2, 0.25, 0.5, 1.0]\n",
    "d = [3, 7, 14, 26, 27 ]\n",
    "plot(d, gd, 'ro-')\n",
    "xlabel(r'$d$')\n",
    "ylabel(r'$\\hat{G}(d)$')\n",
    "title(r'A sample $\\hat{G}(d)$ result')"
   ]
  },
  {
   "cell_type": "markdown",
   "metadata": {},
   "source": [
    "Above is a sample $G(d)$ result.  The variable `gd` stores result of the above equation for each discrete $d$.  The variable $d$ holds the distances at which the equation was computed.\n",
    "\n",
    "If you have any questions about this, please post in the forums!"
   ]
  }
 ],
 "metadata": {
  "kernelspec": {
   "display_name": "Python 3",
   "language": "python",
   "name": "python3"
  },
  "language_info": {
   "codemirror_mode": {
    "name": "ipython",
    "version": 3
   },
   "file_extension": ".py",
   "mimetype": "text/x-python",
   "name": "python",
   "nbconvert_exporter": "python",
   "pygments_lexer": "ipython3",
   "version": "3.5.1"
  }
 },
 "nbformat": 4,
 "nbformat_minor": 0
}
