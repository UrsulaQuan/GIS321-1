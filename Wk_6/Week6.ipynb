{
 "cells": [
  {
   "cell_type": "markdown",
   "metadata": {},
   "source": [
    "# Functions, Modules, and Methods\n",
    "\n",
    "This week focuses primarily on functions and modules.  The readings are pretty good for these items, so this notebook is purely supplemental."
   ]
  },
  {
   "cell_type": "markdown",
   "metadata": {},
   "source": [
    "## Functions\n",
    "\n",
    "A function is block of reusable code that preferably does one thing.  For the past few weeks, you have been writing and using functions.  The image below illustrates the most basic function.\n",
    "\n",
    "<img src=\"images/funcs.jpg\" /> From: https://www.safaribooksonline.com/library/view/head-first-python/9781449397524/httpatomoreillycomsourceoreillyimages1368386.png.jpg\n",
    "\n",
    "All python functions start with the keyword `def`.  This keyword is reserved, so you will not be able to ever have the line `def = 2` in your code."
   ]
  },
  {
   "cell_type": "markdown",
   "metadata": {},
   "source": [
    "A function has a name.  Preferably, the name of the function describes what the function does.  A really bad example might be:  \n",
    "\n",
    "```python\n",
    "def func(x, y):\n",
    "    return x + y\n",
    "```\n",
    "\n",
    "The next person to see this function used somewhere will have no idea what the function does.\n",
    "\n",
    "After the function name, you are required to have parantheses.  Within the parantheses you have a number of options as to how arguments are supplied:\n",
    "\n",
    "### No Arguments:\n",
    "```python\n",
    "def foo():\n",
    "    return True\n",
    "```\n",
    "A function like this should raise a red flag.  Why do you have a function (not a method) that takes no arguments and returns a constant?  Should you just declare a constant?\n",
    "\n",
    "### Single Positional Argument:\n",
    "```python\n",
    "def foo(bar):\n",
    "    bar += 1\n",
    "    return bar\n",
    "```\n",
    "This is the most basic argument type you will encounter.  Pass in a single argument, do something inside the function, and then return.\n",
    "\n",
    "### n Positional Arguments:\n",
    "```python\n",
    "def foo(bar1, bar2):\n",
    "    return bar1 / bar2\n",
    "```\n",
    "One step more complex, in this setup you have two position arguments.  If you call this function with `foo(1,2)` then the return will be `return 1 / 2`.  If you swap the position and call using `foo(2,1)` the return will be `return 2 / 1`.  The arguments are positional.\n",
    "\n",
    "### Variable Number of Positional Arguments:\n",
    "```python\n",
    "def foo(*args):\n",
    "    for a in args:\n",
    "        do something\n",
    "    return result\n",
    "```\n",
    "Note the `*`.  The name `args` is convention, the `*` is telling Python what to do. What if you have no idea how many arguments are to be passed in?  Say the function takes $n$ numbers and sums them.  Here you can use star notation.\n",
    "\n",
    "### Single Keyword Argument\n",
    "```python\n",
    "def foo(bar=0):\n",
    "    bar += 1\n",
    "    return bar\n",
    "```\n",
    "What if you want to pass in a default?  The keyword arguments are the way to go.  Note that you will always have keyword arguments **after** positional argument:\n",
    "\n",
    "```python\n",
    "def foo(arg1, arg2, *args, kwarg='a'):\n",
    "    do something\n",
    "    return\n",
    "```\n",
    "### Multiple Keyword Arguments\n",
    "```python\n",
    "def foo(bar=0, bat=2):\n",
    "    return bar / bat\n",
    "```\n",
    "Using keyword arguments, position no longer matters (caveat ahead!).  So `foo(bar=3, bat=1)` will always return the same thing `3 / 1`.  Having said that, you can treat keyword arguments like positional arguments and make the call as `foo(3,1)`.  In this case Python handles assigning `bar` and `bat`.\n",
    "\n",
    "### Variable Number of Keyword Arguments\n",
    "```python\n",
    "def foo(**kwargs):\n",
    "    # kwargs is a dict\n",
    "    print(kwargs.keys)\n",
    "```\n",
    "Note the `**`.  The name `kwargs` is convention, the `**` is telling Python what to do.  Here a variable number of keyword arguments are being passed in as a dictionary.  The function needs to know what keys it is expecting.\n",
    "\n",
    "### All of the Above\n",
    "```python\n",
    "def foo(arg1, arg2, arg3, **args, kwarg1=None, kwarg2='a', **kwargs):\n",
    "    do something with all these args and kwargs\n",
    "    return\n",
    "```"
   ]
  },
  {
   "cell_type": "markdown",
   "metadata": {},
   "source": [
    "## Function Nesting\n",
    "If a goal is to have functions perform a single, well function, then it only makes sense that to achieve some more complex functionality, we need to be able to utilize functions within functions (within functions...).  What if I asked you to write me a function compute the variance of some dataset."
   ]
  },
  {
   "cell_type": "code",
   "execution_count": 12,
   "metadata": {
    "collapsed": true
   },
   "outputs": [],
   "source": [
    "import random\n",
    "\n",
    "#  List comprehension to generate 100 uniformly distributed, independent random numbers in the range [0,1]\n",
    "data = [random.random() for i in range(100)]  \n",
    "\n",
    "# First we need the mean, so I write a function\n",
    "def compute_mean(data):\n",
    "    return sum(data) / len(data)\n",
    "\n",
    "# Then we want the variance (mean squared deviation from the mean of the dataset)\n",
    "def variance(data):\n",
    "    var = []\n",
    "    # Note that the return value from compute_mean is being assigned to the mean variable\n",
    "    mean = compute_mean(data)\n",
    "    for i in data:\n",
    "        var.append((i - mean) **2)\n",
    "    return sum(var) / len(var)\n",
    "\n",
    "# Then maybe I extend my requirement and also want the standard deviation\n",
    "def std(data):\n",
    "    # Sqrt of the variance is the standard deviation\n",
    "    return variance(data) ** (1/2)"
   ]
  },
  {
   "cell_type": "code",
   "execution_count": 13,
   "metadata": {
    "collapsed": false
   },
   "outputs": [
    {
     "name": "stdout",
     "output_type": "stream",
     "text": [
      "The mean of the dataset is 0.5435594035860857\n",
      "The variance of the data is 0.07807423471678654\n",
      "The standard deviation of the data is 0.2794176707310877\n"
     ]
    }
   ],
   "source": [
    "print('The mean of the dataset is {}'.format(compute_mean(data)))\n",
    "print('The variance of the data is {}'.format(variance(data)))\n",
    "print('The standard deviation of the data is {}'.format(std(data)))"
   ]
  },
  {
   "cell_type": "markdown",
   "metadata": {},
   "source": [
    "Then say, I want this information to be even easier to access, and want a function that just prints this info"
   ]
  },
  {
   "cell_type": "code",
   "execution_count": 14,
   "metadata": {
    "collapsed": false
   },
   "outputs": [
    {
     "name": "stdout",
     "output_type": "stream",
     "text": [
      "The mean of the dataset is 0.5435594035860857\n",
      "The variance of the data is 0.07807423471678654\n",
      "The standard deviation of the data is 0.2794176707310877\n"
     ]
    }
   ],
   "source": [
    "def describe(data):\n",
    "    print('The mean of the dataset is {}'.format(compute_mean(data)))\n",
    "    print('The variance of the data is {}'.format(variance(data)))\n",
    "    print('The standard deviation of the data is {}'.format(std(data)))\n",
    "\n",
    "describe(data)"
   ]
  },
  {
   "cell_type": "markdown",
   "metadata": {},
   "source": [
    "## Aside: Code Organization\n",
    "\n",
    "Checkout [this awesome software carpentry link](http://intermediate-and-advanced-software-carpentry.readthedocs.org/en/latest/structuring-python.html)(up to the PYTHONPATH discussion) for some more information as to *why* we are structuring code this way (and why we did not start the class just 'writing some scripts')."
   ]
  },
  {
   "cell_type": "markdown",
   "metadata": {},
   "source": [
    "## Modules\n",
    "Python utilizes the idea of modules to compartmentalize code into a namespace.  The above link gives a little overview of the logic behind modules.  In short, the idea is to encapsulate like functionality within a logical place.  You have already seen this when you used the `math` module.  Your code had an `import math` line that brought the `math` module into the namespace.  Using dot notation, you were then able to access *everything* within the `math` module.  I think an example is probably the best way to see what is going on"
   ]
  },
  {
   "cell_type": "code",
   "execution_count": 15,
   "metadata": {
    "collapsed": false
   },
   "outputs": [
    {
     "data": {
      "text/plain": [
       "[('__doc__',\n",
       "  'This module is always available.  It provides access to the\\nmathematical functions defined by the C standard.'),\n",
       " ('__file__',\n",
       "  '/Users/jlaura/anaconda3/envs/autocnet/lib/python3.5/lib-dynload/math.cpython-35m-darwin.so'),\n",
       " ('__loader__',\n",
       "  <_frozen_importlib_external.ExtensionFileLoader at 0x1050c54a8>),\n",
       " ('__name__', 'math'),\n",
       " ('__package__', ''),\n",
       " ('__spec__',\n",
       "  ModuleSpec(name='math', loader=<_frozen_importlib_external.ExtensionFileLoader object at 0x1050c54a8>, origin='/Users/jlaura/anaconda3/envs/autocnet/lib/python3.5/lib-dynload/math.cpython-35m-darwin.so')),\n",
       " ('acos', <function math.acos>),\n",
       " ('acosh', <function math.acosh>),\n",
       " ('asin', <function math.asin>),\n",
       " ('asinh', <function math.asinh>),\n",
       " ('atan', <function math.atan>),\n",
       " ('atan2', <function math.atan2>),\n",
       " ('atanh', <function math.atanh>),\n",
       " ('ceil', <function math.ceil>),\n",
       " ('copysign', <function math.copysign>),\n",
       " ('cos', <function math.cos>),\n",
       " ('cosh', <function math.cosh>),\n",
       " ('degrees', <function math.degrees>),\n",
       " ('e', 2.718281828459045),\n",
       " ('erf', <function math.erf>),\n",
       " ('erfc', <function math.erfc>),\n",
       " ('exp', <function math.exp>),\n",
       " ('expm1', <function math.expm1>),\n",
       " ('fabs', <function math.fabs>),\n",
       " ('factorial', <function math.factorial>),\n",
       " ('floor', <function math.floor>),\n",
       " ('fmod', <function math.fmod>),\n",
       " ('frexp', <function math.frexp>),\n",
       " ('fsum', <function math.fsum>),\n",
       " ('gamma', <function math.gamma>),\n",
       " ('gcd', <function math.gcd>),\n",
       " ('hypot', <function math.hypot>),\n",
       " ('inf', inf),\n",
       " ('isclose', <function math.isclose>),\n",
       " ('isfinite', <function math.isfinite>),\n",
       " ('isinf', <function math.isinf>),\n",
       " ('isnan', <function math.isnan>),\n",
       " ('ldexp', <function math.ldexp>),\n",
       " ('lgamma', <function math.lgamma>),\n",
       " ('log', <function math.log>),\n",
       " ('log10', <function math.log10>),\n",
       " ('log1p', <function math.log1p>),\n",
       " ('log2', <function math.log2>),\n",
       " ('modf', <function math.modf>),\n",
       " ('nan', nan),\n",
       " ('pi', 3.141592653589793),\n",
       " ('pow', <function math.pow>),\n",
       " ('radians', <function math.radians>),\n",
       " ('sin', <function math.sin>),\n",
       " ('sinh', <function math.sinh>),\n",
       " ('sqrt', <function math.sqrt>),\n",
       " ('tan', <function math.tan>),\n",
       " ('tanh', <function math.tanh>),\n",
       " ('trunc', <function math.trunc>)]"
      ]
     },
     "execution_count": 15,
     "metadata": {},
     "output_type": "execute_result"
    }
   ],
   "source": [
    "import inspect  # Python's awesome code introspection module\n",
    "import math\n",
    "inspect.getmembers(math)"
   ]
  },
  {
   "cell_type": "markdown",
   "metadata": {},
   "source": [
    "So `math` was imported and then I use the `inspect` module to perform a little code introspection.  The `math` module namespace has functions (or classes) available from `acos` to `trunc`.  These are all accessible like so (dot notation):"
   ]
  },
  {
   "cell_type": "code",
   "execution_count": 23,
   "metadata": {
    "collapsed": false
   },
   "outputs": [
    {
     "data": {
      "text/plain": [
       "3.141592653589793"
      ]
     },
     "execution_count": 23,
     "metadata": {},
     "output_type": "execute_result"
    }
   ],
   "source": [
    "math.pi"
   ]
  },
  {
   "cell_type": "markdown",
   "metadata": {},
   "source": [
    "It is also possible to bring all of the functions (and classes) in a namespace into your scripts namespace.  While you might encounter this in an example, please do **not** do this in practice as namespace pollution can cause some hard to find bugs.\n",
    "\n",
    "The import now says, from math import everything and drop the need to utilize `math.` notation.  Everything is at the root level."
   ]
  },
  {
   "cell_type": "code",
   "execution_count": 25,
   "metadata": {
    "collapsed": false
   },
   "outputs": [
    {
     "data": {
      "text/plain": [
       "3.141592653589793"
      ]
     },
     "execution_count": 25,
     "metadata": {},
     "output_type": "execute_result"
    }
   ],
   "source": [
    "from math import *\n",
    "pi"
   ]
  },
  {
   "cell_type": "markdown",
   "metadata": {},
   "source": [
    "Finally, if you know that you only need `pi`.  It is fine to do something likethe following.  Here, a single function (or class) from a module is being imported."
   ]
  },
  {
   "cell_type": "code",
   "execution_count": 26,
   "metadata": {
    "collapsed": false
   },
   "outputs": [
    {
     "data": {
      "text/plain": [
       "3.141592653589793"
      ]
     },
     "execution_count": 26,
     "metadata": {},
     "output_type": "execute_result"
    }
   ],
   "source": [
    "from math import pi\n",
    "pi"
   ]
  },
  {
   "cell_type": "markdown",
   "metadata": {},
   "source": [
    "One more little trick that can help with namespace issues:"
   ]
  },
  {
   "cell_type": "code",
   "execution_count": 27,
   "metadata": {
    "collapsed": false
   },
   "outputs": [
    {
     "data": {
      "text/plain": [
       "3.141592653589793"
      ]
     },
     "execution_count": 27,
     "metadata": {},
     "output_type": "execute_result"
    }
   ],
   "source": [
    "from math import pi as apple_pie\n",
    "apple_pie"
   ]
  },
  {
   "cell_type": "markdown",
   "metadata": {},
   "source": [
    "Here is a blog post that offers similar information incase the above is confusing: http://bytebaker.com/2008/07/30/python-namespaces/"
   ]
  },
  {
   "cell_type": "markdown",
   "metadata": {},
   "source": [
    "## Methods\n",
    "Python makes a distinction between a function and a method.  We have worked extensively with the former.  In fact, almost all of the code that you have written has been contained in functions.  The one exception are the tests that you have been writing.  Each individual test has been written within a class and are therefore methods of the class.  I would go as far as to suggest that a method is a special type of function.  A method can be unbound, meaning that the class has not been instantiated or bound, meaning that a class instance has been created.  If the distinction is not making sense yet, do not worry, we will talk more in the coming weeks about Python's ability to write object oriented code.\n",
    "\n",
    "Here is a tiny example to give you an idea what is going on."
   ]
  },
  {
   "cell_type": "code",
   "execution_count": 38,
   "metadata": {
    "collapsed": false
   },
   "outputs": [
    {
     "name": "stdout",
     "output_type": "stream",
     "text": [
      "<function Foo.bar at 0x1065a2bf8>\n",
      "<bound method Foo.bar of <__main__.Foo object at 0x106540da0>>\n",
      "<function foo at 0x1065a2b70>\n"
     ]
    }
   ],
   "source": [
    "# Define a tiny, do nothing class\n",
    "class Foo(object):\n",
    "    def bar(self):\n",
    "        return\n",
    "\n",
    "# Define a do nothing function\n",
    "def foo():\n",
    "    return\n",
    "\n",
    "print(Foo.bar)\n",
    "print(Foo().bar)\n",
    "print(foo)"
   ]
  },
  {
   "cell_type": "markdown",
   "metadata": {},
   "source": [
    "1. The first print statement is an example of an unbound method.  It acts just like a function but in the namespace of the class.  The function is not bound to an instance of the class, i.e. an unbounded method.\n",
    "1. The second print statement has instantiated an instance of the Foo class.  `bar` is not a bounded method of the class.  \n",
    "1. The final print statement is a plain function call.\n",
    "\n",
    "Note that we do not make the distinction between bounded and unbounded.  The above is simply an example to let you get a feel for a little bit of what is happening under the hood."
   ]
  },
  {
   "cell_type": "markdown",
   "metadata": {},
   "source": [
    "## Monte Carlo Simulation\n",
    "For all of you that have completed a spatial statistics course, the method we used last week to test the significance of the mean nearest neighbor distance should have been making you a little uncomfortable.  We never accounted for <a href=\"https://en.wikipedia.org/wiki/Boundary_problem_(spatial_analysis)\">edge effects</a>.  A, potentially computationally expensive alternative, to many of the methods appropriate for dealing with edge effects is Monte Carlo simulation.\n",
    "\n",
    "To recap what I assume is material you have previous encountered (if not please let me know!), Monte Carlo simulation functions by defining some domain, e.g. the region of an observed point pattern.  Within that domain observations are simulated drawn from some distribution (independent uniform random distribution in our case).  Then a deterministic metric is computed, e.g. mean nearest neighbor distance.  This process is repeated $p$ times, where $p$ is a number of permutations.  Given some number of permutations (we will look at this next week) the observed phenomenon (the point pattern) can be compared to the simulations.  For this week, we will just use the critical points of the Monte Carlo simulation as a metric.  The critical points are the minimum and maximum values observed in the permutations.  For now, we will assert that an observed value outside of the envelope defined by the minimum and maximum values is significant.\n",
    "\n"
   ]
  },
  {
   "cell_type": "markdown",
   "metadata": {},
   "source": [
    "# Week 7 Deliverables (E5) - Due 3/1/16\n",
    "For this week make sure that you have completed the following:\n",
    "    \n",
    "   \n",
    "* Fork Assignment 5 to your own github repository.\n",
    "    * You can access assignment 5 [HERE](https://github.com/Geospatial-Python/assignment_05)\n",
    "* Clone the repository locally\n",
    "* Check the README.md for assignment instructions.\n",
    "* Make the necessary code changes to `point_pattern.py` so that tests are passing locally\n",
    "    1. Organize the functions that were in `point_pattern.py` into the appropriate\n",
    "    modules.  You decide whether the functions belong in `analytics.py`, `utils.py`, or some other file.\n",
    "    2. Update the tests to reflect the new project structure.\n",
    "    3. Write a function to generate $n$ random points, where the user defines $n$.\n",
    "    4. Write a function that takes $p$ an integer number of permutations.  For each \n",
    "    permutation, create $n$ random points and compute the mean nearest neighbor\n",
    "    distance.  Let this function default to p=99 and n=100.  Make sure that the user \n",
    "    can alter these values if they like.\n",
    "    5. Write a function to compute the critical points in the results returned by the\n",
    "    function you wrote in 4.  If p = 99, then the function in 4 should return a list\n",
    "    of 99 distances.  This function will take that list and find the smallest\n",
    "    and largest distances.  These are the critical points of the Monte Carlo test.\n",
    "    6. Write a function that takes the critical points of the Monte Carlo simulation\n",
    "    and the observed value and returns True is the observed distance is significant,\n",
    "    i.e., less than or greater than the observed.  Otherwise, return False.\n",
    "    7. Write tests for items 3, 4, 5, and 6.  Make sure when testing #4 that you test both cases: default arguments and user defined arguments\n",
    "    8. Look at the file, functional_test.py.  In that file I have written a single\n",
    "    functional test that ties together all of your previous work.  For this test,\n",
    "    you should replace the module and function names with your own values.  For example,\n",
    "    I assume that all the necessary methods are in the point_pattern module.  Since you\n",
    "    refactored the structure of the code in completing #1, the point_pattern module\n",
    "    does not exist.  Instead, `analytics` and `utils` (and/or maybe something else) do.  Additionally,for #3 - 6, you \n",
    "    wrote functions.  I guessed at what you might name these, but leave it\n",
    "    to you to update the functional test with the names you selected.\n",
    "        \n",
    "* As usual, make sure all tests are passing.\n",
    "* Submit a pull request to the Geospatial_Python Assignment 5 repository.\n",
    "\n",
    "Any questions, please post on the discussion forum."
   ]
  },
  {
   "cell_type": "code",
   "execution_count": null,
   "metadata": {
    "collapsed": true
   },
   "outputs": [],
   "source": []
  }
 ],
 "metadata": {
  "kernelspec": {
   "display_name": "Python 3",
   "language": "python",
   "name": "python3"
  },
  "language_info": {
   "codemirror_mode": {
    "name": "ipython",
    "version": 3
   },
   "file_extension": ".py",
   "mimetype": "text/x-python",
   "name": "python",
   "nbconvert_exporter": "python",
   "pygments_lexer": "ipython3",
   "version": "3.5.1"
  }
 },
 "nbformat": 4,
 "nbformat_minor": 0
}
