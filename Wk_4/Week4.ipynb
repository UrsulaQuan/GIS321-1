{
 "cells": [
  {
   "cell_type": "markdown",
   "metadata": {},
   "source": [
    "# iPython Notebooks, Continious Integrations Environements and Operators"
   ]
  },
  {
   "cell_type": "markdown",
   "metadata": {},
   "source": [
    "## iPython (Jupyter Notebook)\n",
    "\n",
    "As a quick aside, these notebooks can all be run locally.  This is the first week that larger sections of code are being shipped in the notebook and you may want to play around, change some numbers, and experiment.  To do this:\n",
    "\n",
    "1. Clone this repository locally to your computer using the standard `git clone REPO_URL` syntax.\n",
    "1. Open up a terminal or powershell and `cd` into the cloned directory.  For example, if I cloned the repository to /Users/jay/Desktop/week4, I would open the terminal and execute `cd /Users/jay/Desktop/week4` or `cd ~/Desktop/week4`.\n",
    "1. Once you are in directory, type `jupyter notebook` and the jupyter interface should load.  This should automatically open a web browser with the following page:\n",
    "\n",
    "<img src=\"images/ipy.png\"/>\n",
    "\n",
    "1. Click the Week4.ipynb link and this notebook will open.\n",
    "1. To execute a cell, hold `shift` and press `return`."
   ]
  },
  {
   "cell_type": "markdown",
   "metadata": {},
   "source": [
    "## CI\n",
    "Continious Integration is simply a development practice, where a team of developers are integrating code into a centralized repository at some interval.  With ever checkin, automated testing (unit and/or functional) is run.  This development model allows for the detection of merge (the act of integrating 2+ persons' code together) issues or bugs with every code update.  \n",
    "\n",
    "**TODO:** To get more familiar with CI, please read [this wonderful Martin Fowler article](http://www.martinfowler.com/articles/continuousIntegration.html)."
   ]
  },
  {
   "cell_type": "markdown",
   "metadata": {},
   "source": [
    "### How have we been using CI?\n",
    "\n",
    "We have been using CI since week 2, just not for the code integration aspects.  Instead, we have been using CI to run a suite of automated tests (the Koans) in a TDD environment.  Take for example the following image:\n",
    "\n",
    "<img src='images/ci-architecture.png'/>\n",
    "\n",
    "You are the developers (1) working on writing code and commiting that code to a version control system (Git / Github).  Once the code is pushed to Github, you are submitting a pull request to have your changes integrated into the main development branch (2).  This causes the continious integration environment (3) to provision a virtual machine in the cloud, spool up, clone your code, and run the automated test suite (4).  Once this is done, the CI environment alerts me and I can check the test results (6).  If we were to take everyone in the class, and divide the development work into teams, the utilization of the code repository and CI environment would not change.\n",
    "\n",
    "Image from: http://decks.eric.pe/pantheon-ci/images/ci-architecture.png"
   ]
  },
  {
   "cell_type": "markdown",
   "metadata": {},
   "source": [
    "### Currently Available CI Environments\n",
    "In previous week we looked at github and a DVCS.  This is a key component of a CI environment.  The other key component are tests, which we develop first in a TDD environment, and a CI Server.  Popular CI Servers include [Travis-CI](https://travis-ci.com), [Jenkins](https://jenkins-ci.org), [Appveyor](https://www.appveyor.com) or [BuildBot](http://buildbot.net).  My first preference, for builds of open source software without long test cycles (say a build less than 30 minutes) is Travis.  Travis is freely available, integrates well with Github, supports Linux and OS X and does not require much setup.  We will look more at Travis below.  Frequently, the software we develop needs to run on Windows as well.  This is where Appveyor steps in.  Appveyor is, in many way the Travis of Windows and simply requires that an additional configuration script be created.  \n",
    "\n",
    "What happens when the software is larger, proprietary, or not open source.  This is where Jenkins comes in.  Jenkins can be installed on your own server, with the necessary proprietary software already installed (ArcMap anyone?), and hooks can be used to pull code from your code repository for testing.  You install and maintain Jenkins.  This equates to additional development time spent working with CI.\n",
    "\n",
    "\n",
    "#### Travis:\n",
    "<img src='images/travis.gif' />\n",
    "\n",
    "Getting started with Travis is [easy](https://docs.travis-ci.com/user/getting-started/):\n",
    "\n",
    "1. Login with your github credentials and allow Travis to access your repositories.\n",
    "1. Activate a repository\n",
    "1. Add a .travis.yml to the top level of your code repository.\n",
    "\n",
    "Here is the `.travis.yml` script that we used in week 1.  It simply says that we want to test in a Python 3.5 environment and that the script to be run is `nosetests`. \n",
    "\n",
    "```yml\n",
    "language: python\n",
    "python:\n",
    "  - \"3.5\"\n",
    "\n",
    "#command to run tests\n",
    "script: nosetests\n",
    "```\n",
    "\n",
    "It is equally easy to specify a different script.  For example, here is a .travis.yml that builds the GEOS library.  (Yes, this is a build.sh that could build any number of libraries.)  \n",
    "```yml\n",
    "#!/bin/sh\n",
    "\n",
    "./configure --prefix=$PREFIX\n",
    "\n",
    "make\n",
    "make install\n",
    "```\n",
    "The point is that Travis is not limited to Python, but is able to build Fortran, C, C++, Objective-C (works for Swift as well), Ruby, Go, etc.   "
   ]
  },
  {
   "cell_type": "markdown",
   "metadata": {},
   "source": [
    "## Operators / Operands"
   ]
  },
  {
   "cell_type": "markdown",
   "metadata": {},
   "source": [
    "This week, we are focusing on Python operators.  In general mathematical operators are going to behave precisely how you would expect them to.  Here is a list of the operators, with the operators at the top taking precidence over the operators at the bottom (e.g. the order of operators moved from top to bottom).\n",
    "\n",
    "<img src='images/operators.jpg'/>\n",
    "\n",
    "Notice that [PEMDAS](http://www.mathsisfun.com/operation-order-pemdas.html), is right in there, though split by function calls, slicing, and some bitwise operators."
   ]
  },
  {
   "cell_type": "markdown",
   "metadata": {},
   "source": [
    "### Math: Just what you would expect"
   ]
  },
  {
   "cell_type": "code",
   "execution_count": 1,
   "metadata": {
    "collapsed": false
   },
   "outputs": [
    {
     "data": {
      "text/plain": [
       "2"
      ]
     },
     "execution_count": 1,
     "metadata": {},
     "output_type": "execute_result"
    }
   ],
   "source": [
    "x = 1 + 1\n",
    "x"
   ]
  },
  {
   "cell_type": "code",
   "execution_count": 2,
   "metadata": {
    "collapsed": false
   },
   "outputs": [
    {
     "data": {
      "text/plain": [
       "2.0"
      ]
     },
     "execution_count": 2,
     "metadata": {},
     "output_type": "execute_result"
    }
   ],
   "source": [
    "y = 1.0 * 2\n",
    "y"
   ]
  },
  {
   "cell_type": "code",
   "execution_count": 3,
   "metadata": {
    "collapsed": false
   },
   "outputs": [
    {
     "data": {
      "text/plain": [
       "9"
      ]
     },
     "execution_count": 3,
     "metadata": {},
     "output_type": "execute_result"
    }
   ],
   "source": [
    "x = (2 + 1)**2  # Exponentiation\n",
    "x"
   ]
  },
  {
   "cell_type": "markdown",
   "metadata": {},
   "source": [
    "How about something a little more complex: $7 + (3 x 4^{2} - 1)$"
   ]
  },
  {
   "cell_type": "code",
   "execution_count": 8,
   "metadata": {
    "collapsed": false
   },
   "outputs": [
    {
     "data": {
      "text/plain": [
       "54"
      ]
     },
     "execution_count": 8,
     "metadata": {},
     "output_type": "execute_result"
    }
   ],
   "source": [
    "7 + (3 * 4 ** 2 - 1)"
   ]
  },
  {
   "cell_type": "markdown",
   "metadata": {},
   "source": [
    "How about translating the formula for the area of a circle into code? \n",
    "\n",
    "Formula: $A = \\pi r^{2}$"
   ]
  },
  {
   "cell_type": "code",
   "execution_count": 4,
   "metadata": {
    "collapsed": false
   },
   "outputs": [
    {
     "data": {
      "text/plain": [
       "12.56"
      ]
     },
     "execution_count": 4,
     "metadata": {},
     "output_type": "execute_result"
    }
   ],
   "source": [
    "r = 2.0\n",
    "pi = 3.14  #Bad approximation\n",
    "\n",
    "a = pi * r ** 2\n",
    "a"
   ]
  },
  {
   "cell_type": "markdown",
   "metadata": {},
   "source": [
    "How about being a little bit more precise with pi?"
   ]
  },
  {
   "cell_type": "code",
   "execution_count": 6,
   "metadata": {
    "collapsed": false
   },
   "outputs": [
    {
     "data": {
      "text/plain": [
       "12.566370614359172"
      ]
     },
     "execution_count": 6,
     "metadata": {},
     "output_type": "execute_result"
    }
   ],
   "source": [
    "import math\n",
    "math_pi = math.pi\n",
    "r2 = 2.0\n",
    "\n",
    "a2 = math_pi * r2 ** 2\n",
    "a2"
   ]
  },
  {
   "cell_type": "code",
   "execution_count": 7,
   "metadata": {
    "collapsed": false
   },
   "outputs": [
    {
     "data": {
      "text/plain": [
       "0.006370614359171967"
      ]
     },
     "execution_count": 7,
     "metadata": {},
     "output_type": "execute_result"
    }
   ],
   "source": [
    "difference = a2 - a\n",
    "difference  # Not too off, it all depends on the application"
   ]
  },
  {
   "cell_type": "markdown",
   "metadata": {},
   "source": [
    "#### Division "
   ]
  },
  {
   "cell_type": "code",
   "execution_count": 10,
   "metadata": {
    "collapsed": false
   },
   "outputs": [
    {
     "data": {
      "text/plain": [
       "0.6"
      ]
     },
     "execution_count": 10,
     "metadata": {},
     "output_type": "execute_result"
    }
   ],
   "source": [
    "# Classic division\n",
    "3 / 5"
   ]
  },
  {
   "cell_type": "code",
   "execution_count": 11,
   "metadata": {
    "collapsed": false
   },
   "outputs": [
    {
     "data": {
      "text/plain": [
       "0.6"
      ]
     },
     "execution_count": 11,
     "metadata": {},
     "output_type": "execute_result"
    }
   ],
   "source": [
    "3 / 5.0  #Float not required in Python 3, but is in Python 2.x"
   ]
  },
  {
   "cell_type": "code",
   "execution_count": 15,
   "metadata": {
    "collapsed": false
   },
   "outputs": [
    {
     "data": {
      "text/plain": [
       "1"
      ]
     },
     "execution_count": 15,
     "metadata": {},
     "output_type": "execute_result"
    }
   ],
   "source": [
    "5 % 2  # Remainder of number 1 / number 2"
   ]
  },
  {
   "cell_type": "code",
   "execution_count": 17,
   "metadata": {
    "collapsed": false
   },
   "outputs": [
    {
     "data": {
      "text/plain": [
       "(2, 1)"
      ]
     },
     "execution_count": 17,
     "metadata": {},
     "output_type": "execute_result"
    }
   ],
   "source": [
    "#What if we want both the divisor and any remainder\n",
    "divmod(5,2)"
   ]
  },
  {
   "cell_type": "markdown",
   "metadata": {},
   "source": [
    "### Comparison and Membership"
   ]
  },
  {
   "cell_type": "code",
   "execution_count": 22,
   "metadata": {
    "collapsed": true
   },
   "outputs": [],
   "source": [
    "x = 1\n",
    "y = 1.0\n",
    "z = 2"
   ]
  },
  {
   "cell_type": "code",
   "execution_count": 25,
   "metadata": {
    "collapsed": false
   },
   "outputs": [
    {
     "name": "stdout",
     "output_type": "stream",
     "text": [
      "True\n",
      "False\n",
      "True\n"
     ]
    }
   ],
   "source": [
    "print(x==y)  # Does x equal y, return a boolean\n",
    "print(x==z)  # Likewise, does x equal z\n",
    "print(x!=z)  # Does x not equal z"
   ]
  },
  {
   "cell_type": "code",
   "execution_count": 27,
   "metadata": {
    "collapsed": false
   },
   "outputs": [
    {
     "name": "stdout",
     "output_type": "stream",
     "text": [
      "True\n",
      "True\n"
     ]
    }
   ],
   "source": [
    "# Less than\n",
    "print(x < z)\n",
    "# Greater than or equal to\n",
    "print(x >= y)"
   ]
  },
  {
   "cell_type": "markdown",
   "metadata": {},
   "source": [
    "Note that `<>` (not equal) no longer works in Python 3 (thankfully)."
   ]
  },
  {
   "cell_type": "code",
   "execution_count": 32,
   "metadata": {
    "collapsed": false
   },
   "outputs": [
    {
     "name": "stdout",
     "output_type": "stream",
     "text": [
      "True\n",
      "False\n",
      "True\n"
     ]
    }
   ],
   "source": [
    "x = [1,2,3,4,5]  # A list of numbers, we will talk about lists in a coming lesson, just trust me for now\n",
    "\n",
    "# Check if 1 is in x\n",
    "print(1 in x)\n",
    "\n",
    "# Check if 0 is in x\n",
    "print(0 in x)\n",
    "\n",
    "# Make sure that 6 is not in x\n",
    "print(6 not in x)"
   ]
  },
  {
   "cell_type": "code",
   "execution_count": 33,
   "metadata": {
    "collapsed": false
   },
   "outputs": [
    {
     "name": "stdout",
     "output_type": "stream",
     "text": [
      "False\n",
      "True\n",
      "True\n"
     ]
    }
   ],
   "source": [
    "# Something zen like using is\n",
    "print(True is False)\n",
    "\n",
    "# All is right in the world\n",
    "print(True is not False)\n",
    "\n",
    "# Building on last week and None\n",
    "x = None\n",
    "print(x is None)"
   ]
  },
  {
   "cell_type": "code",
   "execution_count": 35,
   "metadata": {
    "collapsed": false
   },
   "outputs": [
    {
     "name": "stdout",
     "output_type": "stream",
     "text": [
      "False\n",
      "True\n"
     ]
    }
   ],
   "source": [
    "# Boolean AND OR\n",
    "x = 1\n",
    "y = 1.0\n",
    "z = 2\n",
    "\n",
    "# Does x equal y and z?\n",
    "print(x == y and x == z)\n",
    "\n",
    "# Does x equal y or z\n",
    "print(x == y or x == z)"
   ]
  },
  {
   "cell_type": "markdown",
   "metadata": {},
   "source": [
    "### Operators and Strings\n",
    "The above used operators on `int` and `float` types.  Similar operations work on strings (most of the time)."
   ]
  },
  {
   "cell_type": "code",
   "execution_count": 46,
   "metadata": {
    "collapsed": false
   },
   "outputs": [
    {
     "name": "stdout",
     "output_type": "stream",
     "text": [
      "aab\n"
     ]
    }
   ],
   "source": [
    "# As above, but with strings\n",
    "x = 'a'\n",
    "y = 'a'\n",
    "z = 'b'\n",
    "\n",
    "# Addition\n",
    "print(x + y + z)\n",
    "\n",
    "# Subtraction\n",
    "# print(x-y)  # Uncomment to see that subtraction is not supported\n",
    "\n",
    "# Multiplication\n",
    "# print (x * y)  # Uncomment to see that multiplication also does not work"
   ]
  },
  {
   "cell_type": "code",
   "execution_count": 47,
   "metadata": {
    "collapsed": false
   },
   "outputs": [
    {
     "name": "stdout",
     "output_type": "stream",
     "text": [
      "False\n",
      "True\n",
      "True\n"
     ]
    }
   ],
   "source": [
    "# Equality  (Lexiographic Sorting)\n",
    "print(x > z)\n",
    "print(z > x)\n",
    "print('a' > 'A')"
   ]
  },
  {
   "cell_type": "code",
   "execution_count": 48,
   "metadata": {
    "collapsed": false
   },
   "outputs": [
    {
     "name": "stdout",
     "output_type": "stream",
     "text": [
      "True\n",
      "False\n"
     ]
    }
   ],
   "source": [
    "l = ['a', 'b', 'c', 'd', 'e', 'f', 'g', 'h']\n",
    "\n",
    "# Is a in l?\n",
    "print('a' in l)\n",
    "\n",
    "# Is z in l?\n",
    "print('z' in l)"
   ]
  },
  {
   "cell_type": "markdown",
   "metadata": {},
   "source": [
    "### Bitwise Operations\n",
    "In 7+ years of spatial Python programming, I have not had a great reason to use bitwise shift operations.  What I have used is the bitwise comparators.  These have been used in the context of [Numpy](http://www.numpy.org).  My suggestion would be: Until you need to worry about them, do not."
   ]
  },
  {
   "cell_type": "markdown",
   "metadata": {},
   "source": [
    "#### Aside: Tuple Access & the math module\n",
    "As part of the assignment this week we are working with x,y point coordinates.  These are stored in tuples and take the form `(x,y)`.  We will talk more about tuples next week, but to complete the assignment, you need to know how to access the x and y values independently (so you can apply operators).\n",
    "\n",
    "Given a tuple `t = (1,2)`, it is possible to access the first number using the syntax `t[0]` and the second number as `t[1]`.  So `t[0] = 1` and `t[1] = 2`.\n",
    "\n",
    "This week, you will need to compute the square root of some numbers (for the euclidean distance formula).  To do this you will need to use the [math module](https://docs.python.org/3/library/math.html#math.sqrt).  The assignment already brings `math` into the namespace.  Checkout the linked documentation for how to use the `sqrt` call.  This will take the form of `module.function` or `math._____`."
   ]
  },
  {
   "cell_type": "markdown",
   "metadata": {},
   "source": [
    "# Week 3 Deliverables (E3) - Due 2/9/16\n",
    "For this week make sure that you have completed the following:\n",
    "    \n",
    "   \n",
    "* Fork Assignment 3 to your own github repository.\n",
    "    * You can access assignment 3 [HERE](https://github.com/Geospatial-Python/assignment_03)\n",
    "* Clone the repository locally\n",
    "* Make the necessary code changes to `point_pattern.py` so that tests are passing locally\n",
    "* Submit a pull request to the Geospatial_Python Assignment 3 repository.\n",
    "\n",
    "Any questions, please post on the discussion forum."
   ]
  }
 ],
 "metadata": {
  "kernelspec": {
   "display_name": "Python 3",
   "language": "python",
   "name": "python3"
  },
  "language_info": {
   "codemirror_mode": {
    "name": "ipython",
    "version": 3
   },
   "file_extension": ".py",
   "mimetype": "text/x-python",
   "name": "python",
   "nbconvert_exporter": "python",
   "pygments_lexer": "ipython3",
   "version": "3.5.0"
  }
 },
 "nbformat": 4,
 "nbformat_minor": 0
}
