{
 "cells": [
  {
   "cell_type": "markdown",
   "metadata": {},
   "source": [
    "# Programming for GeoSpatial Python"
   ]
  },
  {
   "cell_type": "markdown",
   "metadata": {},
   "source": [
    "## Who is this course for?\n",
    "\n",
    "This course is designed at the intersection of two domains: geography and computer science.  Many of you will be Geographic Information System (GIS) users or Geographic Information Scientists (GISc) who wish to leverage a programming language for task automation, exploratory data analysis, data  manipulation, or even computational experimentation.  Others will be Computer Scientists who anticipate encountering spatialized data in your professional endeavours.\n",
    "\n",
    "I make the assumption that you have taken the couse prerequisite and are comfortable navigating your computer, developing software (not necessarily in Python), and writing a basic Object Oriented application.  We will start relatively basic, looking at development environments, code testing, and Python syntax within the context of spatial analysis tasks.  We will work towards building a point pattern analysis module and then making some (or all) of the functionality available as a QGIS plugin."
   ]
  },
  {
   "cell_type": "markdown",
   "metadata": {},
   "source": [
    "## Software Installation\n",
    "\n",
    "\n",
    "### Anaconda Python\n",
    "\n",
    "Anaconda Python, packaged and made available by Continuum Analytics bills itself as a full featured analytical platform.  To accomplish this, Anaconda Python bundles a full stack of scientific computing libraries with a standard Python installation.  I find Anaconda (and the competing Enthought / Canopy Python packaging efforts to be exceptionally benifical for the Python community as it makes code portability that much easier.\n",
    "\n",
    "For this course we will be using Anaconda Python, available with installation instructions at: [Installing Anaconda](https://www.continuum.io/downloads).  **Please utilize version 3.5 not 2.7.**\n",
    "\n",
    "### Checking Installations\n",
    "\n",
    "#### Windows\n",
    "\n",
    "To check this, start a powershell:\n",
    "* Start button\n",
    "* type pow in the Search programs and files entry and hit return\n",
    "* Click Windows Powershell\n",
    "* At the prompt enter ipython and hit return.\n",
    "* Your screen should look as follows, below, with the caveat that we are install Python version 3.5.\n",
    "\n",
    "<img src=\"images/ipython_powershell.png\">\n",
    "\n",
    "#### OS X\n",
    "\n",
    "To check this, start a terminal:\n",
    "* Applications - > Utilities -> Terminal\n",
    "* At the prompt enter ipython and hit return.\n",
    "* Your screen should look as follows\n",
    "\n",
    "<img src=\"images/ipython_terminal.png\">\n",
    "\n",
    "\n",
    "#### Linux\n",
    "If you are using a linux machine, I am going to make the assumption that you are comfortable launching a terminal and then iPython.  If not, get in touch with me and let me know what flavor of Linux you are using."
   ]
  },
  {
   "cell_type": "markdown",
   "metadata": {},
   "source": [
    "## Git and Github\n",
    "\n",
    "<img src=\"images/gitlogo.png\">\n",
    "\n",
    "For this course we will be using a Version Control System (VCS), git.  While, I could describe what Git is, and why you might want to use it, I will defer to the experts on VCS.  Please read:\n",
    "\n",
    "* [Git Chapter 1](https://git-scm.com/book/en/v2/Getting-Started-About-Version-Control) Sections 1.1 through 1.8.  Paying special attention to [Section 1.5](https://git-scm.com/book/en/v2/Getting-Started-Installing-Git)\n",
    "* [Git Chapter 2 Section 1](https://git-scm.com/book/en/v2/Git-Basics-Getting-a-Git-Repository#Cloning-an-Existing-Repository) Paying special attention to [Cloning an Existing Repository](https://git-scm.com/book/en/v2/Git-Basics-Getting-a-Git-Repository#Cloning-an-Existing-Repository)\n",
    "* [Git Chapter 6 Section 1 and Section 2](https://git-scm.com/book/en/v2/GitHub-Account-Setup-and-Configuration) Focusing on *Account Setup and Configuration* and *Forking*.\n",
    "\n",
    "After exploring those readings you should be able to:\n",
    "* Describe what a VCS is and provide a few reasons you might want to use one.\n",
    "* Differentiate between a centralized and a distributed VCS.\n",
    "* Install git on your machine (This is a deliverable for the week.)\n",
    "* Sign up for a Github account (This is a deliverable for the week.)\n",
    "* Know where to find additional information about Git."
   ]
  },
  {
   "cell_type": "markdown",
   "metadata": {},
   "source": [
    "## How will this course be presented?\n",
    "This is the first time that this course has been presented as an iCourse.  For this reason, we will be experimenting with a few new course delivery mechanisms.  \n",
    "\n",
    "* The first is the presentation of supplemental text as iPython notebooks (that is what this is).  As the course progresses, we will look at how to use these to help with software development (exploratory coding if you will).  \n",
    "* Second, we will be utilizing the [Github Classroom Mechanism](https://classroom.github.com).  Having worked in a number of development environments, I can attest to the need to good version control practices.  This is even when developing as a team of one.  Having interviewed many dozens of applicants for development positions (spatial and traditional), I can assure you that having some experience with VCS is an important box to be able to tick.  \n",
    "* Finally, the course assignments, save E0, will take the form of Test Driven Development (TDD) exercises that are 'checked' using a [Continuous Integration Environment](http://www.martinfowler.com/articles/continuousIntegration.html).  We will explore TDD next week, but in brief the idea is that tests are written before your write logic code.  Then you know what the code must do, and when the code is fulfilling that requirement - more to come, but this is an experiment in 'flipping' the delivery style.\n",
    "\n",
    "Note: The continious integration link is completely optional reading.  The first paragraph is ~6 lines and well worth the visit though."
   ]
  },
  {
   "cell_type": "markdown",
   "metadata": {},
   "source": [
    "## Python Programming Resources\n",
    "\n",
    "* [Software Carpentry](http://swcarpentry.github.io/python-novice-inflammation/) is a volunteer organization that focuses on teaching researchers necessary software development and computational skills.\n",
    "\n",
    "* [Python Module of the Week](https://pymotw.com/2/contents.html) started as a series of blog posts by Doug Hellmann as he worked through the Python standard library (the code that is always availabe with a standard Python installation).  PMotW is a wonderful supplement to the Python documentation that adds accessible code examples.\n",
    "\n",
    "* [Learn Python the Hard Way](http://learnpythonthehardway.org/book/), by Zed Shaw, is an exercise based introudction to Python.  This results in a text that may be too cookbook like and does hinder direct porting for our domain.  Having said that, a snginficant amoutn of great informatiuon is stored in these pages.\n",
    "\n",
    "* [How to Think Like a Computer Scientist](http://openbookproject.net/thinkcs/python/english2e/index.html) seeks to fills the gap that exists between many (most) programming texts that assume a basic level of traditional computer science training, and the need for scientists to leverage computational methods without significant overhead."
   ]
  },
  {
   "cell_type": "markdown",
   "metadata": {
    "collapsed": true
   },
   "source": [
    "# Week 1 Deliverables (E0) - Due 1/19/16\n",
    "For this week make sure that you have completed the following:\n",
    "\n",
    "* Install Anaconda Python (version 3.5) on the computer that you will be using for the course and send me a screen capture. (Similar to what you see above.)\n",
    "* Sign up for a [github](http://github.com/join) account and send me your username.\n"
   ]
  },
  {
   "cell_type": "code",
   "execution_count": null,
   "metadata": {
    "collapsed": true
   },
   "outputs": [],
   "source": []
  }
 ],
 "metadata": {
  "kernelspec": {
   "display_name": "Python 3",
   "language": "python",
   "name": "python3"
  },
  "language_info": {
   "codemirror_mode": {
    "name": "ipython",
    "version": 3
   },
   "file_extension": ".py",
   "mimetype": "text/x-python",
   "name": "python",
   "nbconvert_exporter": "python",
   "pygments_lexer": "ipython3",
   "version": "3.5.0"
  }
 },
 "nbformat": 4,
 "nbformat_minor": 0
}
